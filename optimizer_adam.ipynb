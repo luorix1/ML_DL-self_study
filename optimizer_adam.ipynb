{
  "nbformat": 4,
  "nbformat_minor": 0,
  "metadata": {
    "colab": {
      "name": "optimizer_adam",
      "provenance": [],
      "authorship_tag": "ABX9TyOMHOtqMDjn5mpZUdeXt/nQ",
      "include_colab_link": true
    },
    "kernelspec": {
      "name": "python3",
      "display_name": "Python 3"
    },
    "language_info": {
      "name": "python"
    }
  },
  "cells": [
    {
      "cell_type": "markdown",
      "metadata": {
        "id": "view-in-github",
        "colab_type": "text"
      },
      "source": [
        "<a href=\"https://colab.research.google.com/github/luorix1/ML_DL-self_study/blob/main/optimizer_adam.ipynb\" target=\"_parent\"><img src=\"https://colab.research.google.com/assets/colab-badge.svg\" alt=\"Open In Colab\"/></a>"
      ]
    },
    {
      "cell_type": "code",
      "metadata": {
        "id": "GlP4UP00Kyt_"
      },
      "source": [
        "import numpy as np\n",
        "import pandas as pd\n",
        "import scipy\n",
        "import matplotlib.pyplot as plt\n",
        "import tensorflow as tf\n",
        "from tensorflow import keras\n",
        "from sklearn.model_selection import train_test_split"
      ],
      "execution_count": 1,
      "outputs": []
    },
    {
      "cell_type": "code",
      "metadata": {
        "colab": {
          "base_uri": "https://localhost:8080/"
        },
        "id": "pSukVBJ5K9hQ",
        "outputId": "f8ca7b8c-d839-4298-b8a0-860a90c2779d"
      },
      "source": [
        "(train_input, train_target), (test_input, test_target) = keras.datasets.fashion_mnist.load_data()"
      ],
      "execution_count": 2,
      "outputs": [
        {
          "output_type": "stream",
          "name": "stdout",
          "text": [
            "Downloading data from https://storage.googleapis.com/tensorflow/tf-keras-datasets/train-labels-idx1-ubyte.gz\n",
            "32768/29515 [=================================] - 0s 0us/step\n",
            "40960/29515 [=========================================] - 0s 0us/step\n",
            "Downloading data from https://storage.googleapis.com/tensorflow/tf-keras-datasets/train-images-idx3-ubyte.gz\n",
            "26427392/26421880 [==============================] - 0s 0us/step\n",
            "26435584/26421880 [==============================] - 0s 0us/step\n",
            "Downloading data from https://storage.googleapis.com/tensorflow/tf-keras-datasets/t10k-labels-idx1-ubyte.gz\n",
            "16384/5148 [===============================================================================================] - 0s 0us/step\n",
            "Downloading data from https://storage.googleapis.com/tensorflow/tf-keras-datasets/t10k-images-idx3-ubyte.gz\n",
            "4423680/4422102 [==============================] - 0s 0us/step\n",
            "4431872/4422102 [==============================] - 0s 0us/step\n"
          ]
        }
      ]
    },
    {
      "cell_type": "code",
      "metadata": {
        "id": "8tD6idckLhCM"
      },
      "source": [
        "train_scaled = train_input / 255.0\n",
        "train_scaled = train_scaled.reshape(-1, 28**2)"
      ],
      "execution_count": 3,
      "outputs": []
    },
    {
      "cell_type": "code",
      "metadata": {
        "id": "T3m94kbzMC5E"
      },
      "source": [
        "train_scaled, val_scaled, train_target, val_target = train_test_split(train_scaled, train_target, test_size=0.2)"
      ],
      "execution_count": 4,
      "outputs": []
    },
    {
      "cell_type": "code",
      "metadata": {
        "colab": {
          "base_uri": "https://localhost:8080/"
        },
        "id": "OgeAb--VMPgR",
        "outputId": "820ae5c5-6160-4a99-98cf-f90672d043f9"
      },
      "source": [
        "model = keras.Sequential(name='adam')\n",
        "model.add(keras.layers.Dense(100, activation='relu', input_shape=(784,), name='hidden'))\n",
        "model.add(keras.layers.Dense(10, activation='softmax', name='output'))\n",
        "model.summary()"
      ],
      "execution_count": 5,
      "outputs": [
        {
          "output_type": "stream",
          "name": "stdout",
          "text": [
            "Model: \"adam\"\n",
            "_________________________________________________________________\n",
            "Layer (type)                 Output Shape              Param #   \n",
            "=================================================================\n",
            "hidden (Dense)               (None, 100)               78500     \n",
            "_________________________________________________________________\n",
            "output (Dense)               (None, 10)                1010      \n",
            "=================================================================\n",
            "Total params: 79,510\n",
            "Trainable params: 79,510\n",
            "Non-trainable params: 0\n",
            "_________________________________________________________________\n"
          ]
        }
      ]
    },
    {
      "cell_type": "code",
      "metadata": {
        "id": "VtnIO6BzP5bG"
      },
      "source": [
        "model.compile(optimizer='adam', loss='sparse_categorical_crossentropy', metrics='accuracy')"
      ],
      "execution_count": 6,
      "outputs": []
    },
    {
      "cell_type": "code",
      "metadata": {
        "colab": {
          "base_uri": "https://localhost:8080/"
        },
        "id": "qf_e3C8eP_w_",
        "outputId": "19f2b1f1-746f-48f8-a578-58f1334ae265"
      },
      "source": [
        "model.fit(train_scaled, train_target, epochs=20)"
      ],
      "execution_count": 7,
      "outputs": [
        {
          "output_type": "stream",
          "name": "stdout",
          "text": [
            "Epoch 1/20\n",
            "1500/1500 [==============================] - 4s 2ms/step - loss: 0.5348 - accuracy: 0.8107\n",
            "Epoch 2/20\n",
            "1500/1500 [==============================] - 3s 2ms/step - loss: 0.3958 - accuracy: 0.8574\n",
            "Epoch 3/20\n",
            "1500/1500 [==============================] - 3s 2ms/step - loss: 0.3555 - accuracy: 0.8708\n",
            "Epoch 4/20\n",
            "1500/1500 [==============================] - 3s 2ms/step - loss: 0.3301 - accuracy: 0.8796\n",
            "Epoch 5/20\n",
            "1500/1500 [==============================] - 3s 2ms/step - loss: 0.3116 - accuracy: 0.8855\n",
            "Epoch 6/20\n",
            "1500/1500 [==============================] - 3s 2ms/step - loss: 0.2973 - accuracy: 0.8908\n",
            "Epoch 7/20\n",
            "1500/1500 [==============================] - 3s 2ms/step - loss: 0.2834 - accuracy: 0.8950\n",
            "Epoch 8/20\n",
            "1500/1500 [==============================] - 3s 2ms/step - loss: 0.2714 - accuracy: 0.9002\n",
            "Epoch 9/20\n",
            "1500/1500 [==============================] - 3s 2ms/step - loss: 0.2626 - accuracy: 0.9038\n",
            "Epoch 10/20\n",
            "1500/1500 [==============================] - 3s 2ms/step - loss: 0.2539 - accuracy: 0.9049\n",
            "Epoch 11/20\n",
            "1500/1500 [==============================] - 3s 2ms/step - loss: 0.2430 - accuracy: 0.9094\n",
            "Epoch 12/20\n",
            "1500/1500 [==============================] - 3s 2ms/step - loss: 0.2378 - accuracy: 0.9102\n",
            "Epoch 13/20\n",
            "1500/1500 [==============================] - 3s 2ms/step - loss: 0.2286 - accuracy: 0.9142\n",
            "Epoch 14/20\n",
            "1500/1500 [==============================] - 3s 2ms/step - loss: 0.2215 - accuracy: 0.9160\n",
            "Epoch 15/20\n",
            "1500/1500 [==============================] - 3s 2ms/step - loss: 0.2156 - accuracy: 0.9186\n",
            "Epoch 16/20\n",
            "1500/1500 [==============================] - 3s 2ms/step - loss: 0.2095 - accuracy: 0.9225\n",
            "Epoch 17/20\n",
            "1500/1500 [==============================] - 3s 2ms/step - loss: 0.2027 - accuracy: 0.9239\n",
            "Epoch 18/20\n",
            "1500/1500 [==============================] - 3s 2ms/step - loss: 0.1995 - accuracy: 0.9252\n",
            "Epoch 19/20\n",
            "1500/1500 [==============================] - 3s 2ms/step - loss: 0.1940 - accuracy: 0.9277\n",
            "Epoch 20/20\n",
            "1500/1500 [==============================] - 3s 2ms/step - loss: 0.1899 - accuracy: 0.9288\n"
          ]
        },
        {
          "output_type": "execute_result",
          "data": {
            "text/plain": [
              "<keras.callbacks.History at 0x7fed6deca510>"
            ]
          },
          "metadata": {},
          "execution_count": 7
        }
      ]
    },
    {
      "cell_type": "code",
      "metadata": {
        "colab": {
          "base_uri": "https://localhost:8080/"
        },
        "id": "NoUk6kN-QF7H",
        "outputId": "12fa2b47-1a81-4ca3-d379-9708f6873479"
      },
      "source": [
        "model.evaluate(val_scaled, val_target)"
      ],
      "execution_count": 8,
      "outputs": [
        {
          "output_type": "stream",
          "name": "stdout",
          "text": [
            "375/375 [==============================] - 1s 1ms/step - loss: 0.3265 - accuracy: 0.8883\n"
          ]
        },
        {
          "output_type": "execute_result",
          "data": {
            "text/plain": [
              "[0.32647570967674255, 0.8883333206176758]"
            ]
          },
          "metadata": {},
          "execution_count": 8
        }
      ]
    }
  ]
}