{
  "nbformat": 4,
  "nbformat_minor": 0,
  "metadata": {
    "accelerator": "GPU",
    "colab": {
      "name": "visualization_of_cnn",
      "provenance": [],
      "authorship_tag": "ABX9TyOPt0mX833Kfv2s87aZk5F1",
      "include_colab_link": true
    },
    "kernelspec": {
      "display_name": "Python 3",
      "name": "python3"
    },
    "language_info": {
      "name": "python"
    }
  },
  "cells": [
    {
      "cell_type": "markdown",
      "metadata": {
        "id": "view-in-github",
        "colab_type": "text"
      },
      "source": [
        "<a href=\"https://colab.research.google.com/github/luorix1/ML_DL-self_study/blob/main/visualization_of_cnn.ipynb\" target=\"_parent\"><img src=\"https://colab.research.google.com/assets/colab-badge.svg\" alt=\"Open In Colab\"/></a>"
      ]
    },
    {
      "cell_type": "code",
      "metadata": {
        "id": "vT9FvtgI2KYz"
      },
      "source": [
        "import tensorflow as tf\n",
        "from tensorflow import keras\n",
        "import numpy as np\n",
        "import pandas as pd\n",
        "from sklearn.model_selection import train_test_split\n",
        "import matplotlib.pyplot as plt"
      ],
      "execution_count": null,
      "outputs": []
    },
    {
      "cell_type": "code",
      "metadata": {
        "colab": {
          "base_uri": "https://localhost:8080/"
        },
        "id": "LoJCa1Vw2ICI",
        "outputId": "bae47e5b-519d-4aa0-e965-fc1585b108d8"
      },
      "source": [
        "(train_input, train_target), (test_input, test_target) = keras.datasets.fashion_mnist.load_data()"
      ],
      "execution_count": null,
      "outputs": [
        {
          "name": "stdout",
          "output_type": "stream",
          "text": [
            "Downloading data from https://storage.googleapis.com/tensorflow/tf-keras-datasets/train-labels-idx1-ubyte.gz\n",
            "32768/29515 [=================================] - 0s 0us/step\n",
            "40960/29515 [=========================================] - 0s 0us/step\n",
            "Downloading data from https://storage.googleapis.com/tensorflow/tf-keras-datasets/train-images-idx3-ubyte.gz\n",
            "26427392/26421880 [==============================] - 0s 0us/step\n",
            "26435584/26421880 [==============================] - 0s 0us/step\n",
            "Downloading data from https://storage.googleapis.com/tensorflow/tf-keras-datasets/t10k-labels-idx1-ubyte.gz\n",
            "16384/5148 [===============================================================================================] - 0s 0us/step\n",
            "Downloading data from https://storage.googleapis.com/tensorflow/tf-keras-datasets/t10k-images-idx3-ubyte.gz\n",
            "4423680/4422102 [==============================] - 0s 0us/step\n",
            "4431872/4422102 [==============================] - 0s 0us/step\n"
          ]
        }
      ]
    },
    {
      "cell_type": "code",
      "metadata": {
        "id": "yI2lFKyO5RJD"
      },
      "source": [
        "(train_input, train_target), (test_input, test_target) = keras.datasets.fashion_mnist.load_data()\n",
        "train_scaled = train_input.reshape(-1, 28, 28, 1) / 255.0\n",
        "train_scaled, val_scaled, train_target, val_target = train_test_split(train_scaled, train_target, test_size=0.2)"
      ],
      "execution_count": null,
      "outputs": []
    },
    {
      "cell_type": "code",
      "metadata": {
        "colab": {
          "base_uri": "https://localhost:8080/"
        },
        "id": "q0hCxrkC5Suw",
        "outputId": "c7f10664-001f-4399-c0d5-184d72e45d39"
      },
      "source": [
        "model = keras.Sequential()\n",
        "model.add(keras.layers.Conv2D(32, kernel_size=3, activation='relu', padding='same', input_shape=(28, 28, 1)))\n",
        "model.add(keras.layers.MaxPooling2D(2))\n",
        "model.add(keras.layers.Conv2D(64, kernel_size=3, activation='relu', padding='same'))\n",
        "model.add(keras.layers.MaxPooling2D(2))\n",
        "model.add(keras.layers.Flatten())\n",
        "model.add(keras.layers.Dense(100, activation='relu'))\n",
        "model.add(keras.layers.Dropout(0.4))\n",
        "model.add(keras.layers.Dense(10, activation='softmax'))\n",
        "model.compile(optimizer='adam', loss='sparse_categorical_crossentropy', metrics='accuracy')\n",
        "checkpoint_cb = keras.callbacks.ModelCheckpoint('best-cnn-model.h5')\n",
        "early_stopping_cb = keras.callbacks.EarlyStopping(patience=2, restore_best_weights=True)\n",
        "history = model.fit(train_scaled, train_target, epochs=20, validation_data=(val_scaled, val_target), callbacks=[checkpoint_cb, early_stopping_cb])"
      ],
      "execution_count": 7,
      "outputs": [
        {
          "output_type": "stream",
          "name": "stdout",
          "text": [
            "Epoch 1/20\n",
            "1500/1500 [==============================] - 11s 7ms/step - loss: 0.5187 - accuracy: 0.8148 - val_loss: 0.3385 - val_accuracy: 0.8788\n",
            "Epoch 2/20\n",
            "1500/1500 [==============================] - 8s 6ms/step - loss: 0.3446 - accuracy: 0.8761 - val_loss: 0.2820 - val_accuracy: 0.9000\n",
            "Epoch 3/20\n",
            "1500/1500 [==============================] - 8s 6ms/step - loss: 0.2985 - accuracy: 0.8932 - val_loss: 0.2639 - val_accuracy: 0.9018\n",
            "Epoch 4/20\n",
            "1500/1500 [==============================] - 8s 6ms/step - loss: 0.2634 - accuracy: 0.9052 - val_loss: 0.2472 - val_accuracy: 0.9100\n",
            "Epoch 5/20\n",
            "1500/1500 [==============================] - 9s 6ms/step - loss: 0.2406 - accuracy: 0.9113 - val_loss: 0.2293 - val_accuracy: 0.9148\n",
            "Epoch 6/20\n",
            "1500/1500 [==============================] - 9s 6ms/step - loss: 0.2216 - accuracy: 0.9199 - val_loss: 0.2233 - val_accuracy: 0.9212\n",
            "Epoch 7/20\n",
            "1500/1500 [==============================] - 9s 6ms/step - loss: 0.2024 - accuracy: 0.9267 - val_loss: 0.2252 - val_accuracy: 0.9227\n",
            "Epoch 8/20\n",
            "1500/1500 [==============================] - 9s 6ms/step - loss: 0.1882 - accuracy: 0.9290 - val_loss: 0.2258 - val_accuracy: 0.9187\n"
          ]
        }
      ]
    },
    {
      "cell_type": "code",
      "metadata": {
        "id": "hGkg21hn99Pu",
        "colab": {
          "base_uri": "https://localhost:8080/"
        },
        "outputId": "7f82de21-3ca5-4024-ab95-efd003407eba"
      },
      "source": [
        "conv = keras.models.load_model('best-cnn-model.h5')\n",
        "conv.layers"
      ],
      "execution_count": 10,
      "outputs": [
        {
          "output_type": "execute_result",
          "data": {
            "text/plain": [
              "[<keras.layers.convolutional.Conv2D at 0x7f44876c6a50>,\n",
              " <keras.layers.pooling.MaxPooling2D at 0x7f44f023f190>,\n",
              " <keras.layers.convolutional.Conv2D at 0x7f44f023ff90>,\n",
              " <keras.layers.pooling.MaxPooling2D at 0x7f448751b850>,\n",
              " <keras.layers.core.Flatten at 0x7f448758c390>,\n",
              " <keras.layers.core.Dense at 0x7f44874963d0>,\n",
              " <keras.layers.core.Dropout at 0x7f44875898d0>,\n",
              " <keras.layers.core.Dense at 0x7f44875895d0>]"
            ]
          },
          "metadata": {},
          "execution_count": 10
        }
      ]
    },
    {
      "cell_type": "code",
      "metadata": {
        "colab": {
          "base_uri": "https://localhost:8080/"
        },
        "id": "Pf-WkzAMA294",
        "outputId": "9402e355-2dc4-4822-bc85-e7a0f9c247e1"
      },
      "source": [
        "print(conv.layers[0].weights[0].shape, conv.layers[0].weights[1].shape)"
      ],
      "execution_count": 11,
      "outputs": [
        {
          "output_type": "stream",
          "name": "stdout",
          "text": [
            "(3, 3, 1, 32) (32,)\n"
          ]
        }
      ]
    },
    {
      "cell_type": "code",
      "metadata": {
        "colab": {
          "base_uri": "https://localhost:8080/"
        },
        "id": "7vyRAKGRBn9V",
        "outputId": "be2d617d-20a2-4e6d-81f0-1d6fc763728e"
      },
      "source": [
        "conv_weights = conv.layers[0].weights[0].numpy()\n",
        "print(conv_weights.mean(), conv_weights.std())"
      ],
      "execution_count": 12,
      "outputs": [
        {
          "output_type": "stream",
          "name": "stdout",
          "text": [
            "-0.033872187 0.25926247\n"
          ]
        }
      ]
    },
    {
      "cell_type": "code",
      "metadata": {
        "colab": {
          "base_uri": "https://localhost:8080/",
          "height": 279
        },
        "id": "5YXzZ-rvFvlK",
        "outputId": "b36f108b-0673-4042-decc-172922af96e2"
      },
      "source": [
        "plt.hist(conv_weights.reshape(-1, 1))\n",
        "plt.xlabel('weight')\n",
        "plt.ylabel('count')\n",
        "plt.show()"
      ],
      "execution_count": 14,
      "outputs": [
        {
          "output_type": "display_data",
          "data": {
            "image/png": "[encoded data removed]",
            "text/plain": [
              "<Figure size 432x288 with 1 Axes>"
            ]
          },
          "metadata": {
            "needs_background": "light"
          }
        }
      ]
    },
    {
      "cell_type": "code",
      "metadata": {
        "id": "bR0oqxMaF1XG"
      },
      "source": [
        "# using Model class (functional API)\n",
        "# model = keras.Model(inputs, outputs)\n",
        "# dense = keras.layers.Dense(100, activation='sigmoid')\n",
        "# hidden = dense(inputs) (works the same)"
      ],
      "execution_count": 15,
      "outputs": []
    },
    {
      "cell_type": "code",
      "metadata": {
        "id": "Oo8L2b7GHbh5"
      },
      "source": [
        "# use Input() for input layer (Sequential() automatically creates an InputLayer class)\n",
        "# inputs = keras.Input(shape=(784,))"
      ],
      "execution_count": 16,
      "outputs": []
    },
    {
      "cell_type": "code",
      "metadata": {
        "id": "lVIcsCNyM_O9"
      },
      "source": [
        "# model.layers(): shows layers except input layer\n",
        "# model._layers(): shows all layers"
      ],
      "execution_count": null,
      "outputs": []
    }
  ]
}