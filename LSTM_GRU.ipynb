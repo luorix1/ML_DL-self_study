{
  "nbformat": 4,
  "nbformat_minor": 0,
  "metadata": {
    "colab": {
      "name": "LSTM_GRU",
      "provenance": [],
      "authorship_tag": "ABX9TyOuWZJ8IO97ctHCFrYW84Dh",
      "include_colab_link": true
    },
    "kernelspec": {
      "name": "python3",
      "display_name": "Python 3"
    },
    "language_info": {
      "name": "python"
    }
  },
  "cells": [
    {
      "cell_type": "markdown",
      "metadata": {
        "id": "view-in-github",
        "colab_type": "text"
      },
      "source": [
        "<a href=\"https://colab.research.google.com/github/luorix1/ML_DL-self_study/blob/main/LSTM_GRU.ipynb\" target=\"_parent\"><img src=\"https://colab.research.google.com/assets/colab-badge.svg\" alt=\"Open In Colab\"/></a>"
      ]
    },
    {
      "cell_type": "code",
      "metadata": {
        "id": "u5j1qFa4auiY"
      },
      "source": [
        "import tensorflow as tf\n",
        "import numpy as np\n",
        "import pandas as pd\n",
        "from tensorflow import keras\n",
        "from sklearn.model_selection import train_test_split\n",
        "import matplotlib.pyplot as plt"
      ],
      "execution_count": 2,
      "outputs": []
    },
    {
      "cell_type": "code",
      "metadata": {
        "colab": {
          "base_uri": "https://localhost:8080/"
        },
        "id": "tUWCIcLO088M",
        "outputId": "2b072d32-6f86-41e1-8135-19da14754208"
      },
      "source": [
        "(train_input, train_target), (test_input, test_target) = keras.datasets.imdb.load_data(num_words=500)\n",
        "train_input, val_input, train_target, val_target = train_test_split(train_input, train_target, test_size=0.2)"
      ],
      "execution_count": 3,
      "outputs": [
        {
          "output_type": "stream",
          "name": "stdout",
          "text": [
            "Downloading data from https://storage.googleapis.com/tensorflow/tf-keras-datasets/imdb.npz\n",
            "17465344/17464789 [==============================] - 0s 0us/step\n",
            "17473536/17464789 [==============================] - 0s 0us/step\n"
          ]
        }
      ]
    },
    {
      "cell_type": "code",
      "metadata": {
        "id": "oQJExN8u1GHE"
      },
      "source": [
        "train_seq = keras.preprocessing.sequence.pad_sequences(train_input, maxlen=100)\n",
        "val_seq = keras.preprocessing.sequence.pad_sequences(val_input, maxlen=100)"
      ],
      "execution_count": 4,
      "outputs": []
    },
    {
      "cell_type": "code",
      "metadata": {
        "id": "4Xn8YQ2v3_oW"
      },
      "source": [
        "model = keras.Sequential()\n",
        "model.add(keras.layers.Embedding(500, 16, input_length=100))\n",
        "model.add(keras.layers.LSTM(8))\n",
        "model.add(keras.layers.Dense(1, activation='sigmoid'))"
      ],
      "execution_count": 5,
      "outputs": []
    },
    {
      "cell_type": "code",
      "metadata": {
        "colab": {
          "base_uri": "https://localhost:8080/"
        },
        "id": "3XkVuqXA43Um",
        "outputId": "a16f183f-5951-459b-cc20-78352d6b11ef"
      },
      "source": [
        "model.summary()"
      ],
      "execution_count": 6,
      "outputs": [
        {
          "output_type": "stream",
          "name": "stdout",
          "text": [
            "Model: \"sequential\"\n",
            "_________________________________________________________________\n",
            "Layer (type)                 Output Shape              Param #   \n",
            "=================================================================\n",
            "embedding (Embedding)        (None, 100, 16)           8000      \n",
            "_________________________________________________________________\n",
            "lstm (LSTM)                  (None, 8)                 800       \n",
            "_________________________________________________________________\n",
            "dense (Dense)                (None, 1)                 9         \n",
            "=================================================================\n",
            "Total params: 8,809\n",
            "Trainable params: 8,809\n",
            "Non-trainable params: 0\n",
            "_________________________________________________________________\n"
          ]
        }
      ]
    },
    {
      "cell_type": "code",
      "metadata": {
        "colab": {
          "base_uri": "https://localhost:8080/"
        },
        "id": "5dAdCEcm46Je",
        "outputId": "6b8b90a0-6b21-4e1b-d950-57f6179734b2"
      },
      "source": [
        "rmsprop = keras.optimizers.RMSprop(learning_rate=1e-4)\n",
        "model.compile(optimizer=rmsprop, loss='binary_crossentropy', metrics=['accuracy'])\n",
        "checkpoint_cb = keras.callbacks.ModelCheckpoint('best-lstm-model.h5')\n",
        "early_stopping_cb = keras.callbacks.EarlyStopping(patience=3, restore_best_weights=True)\n",
        "history = model.fit(train_seq, train_target, epochs=100, batch_size=64, validation_data=(val_seq, val_target), callbacks=[checkpoint_cb, early_stopping_cb])"
      ],
      "execution_count": 7,
      "outputs": [
        {
          "output_type": "stream",
          "name": "stdout",
          "text": [
            "Epoch 1/100\n",
            "313/313 [==============================] - 14s 37ms/step - loss: 0.6923 - accuracy: 0.5475 - val_loss: 0.6912 - val_accuracy: 0.6090\n",
            "Epoch 2/100\n",
            "313/313 [==============================] - 11s 34ms/step - loss: 0.6888 - accuracy: 0.6338 - val_loss: 0.6855 - val_accuracy: 0.6614\n",
            "Epoch 3/100\n",
            "313/313 [==============================] - 11s 35ms/step - loss: 0.6761 - accuracy: 0.6548 - val_loss: 0.6580 - val_accuracy: 0.6800\n",
            "Epoch 4/100\n",
            "313/313 [==============================] - 11s 34ms/step - loss: 0.6209 - accuracy: 0.7117 - val_loss: 0.5911 - val_accuracy: 0.7422\n",
            "Epoch 5/100\n",
            "313/313 [==============================] - 11s 35ms/step - loss: 0.5785 - accuracy: 0.7451 - val_loss: 0.5630 - val_accuracy: 0.7546\n",
            "Epoch 6/100\n",
            "313/313 [==============================] - 11s 35ms/step - loss: 0.5534 - accuracy: 0.7578 - val_loss: 0.5443 - val_accuracy: 0.7686\n",
            "Epoch 7/100\n",
            "313/313 [==============================] - 11s 35ms/step - loss: 0.5319 - accuracy: 0.7689 - val_loss: 0.5212 - val_accuracy: 0.7716\n",
            "Epoch 8/100\n",
            "313/313 [==============================] - 11s 35ms/step - loss: 0.5139 - accuracy: 0.7752 - val_loss: 0.5119 - val_accuracy: 0.7766\n",
            "Epoch 9/100\n",
            "313/313 [==============================] - 11s 35ms/step - loss: 0.5001 - accuracy: 0.7784 - val_loss: 0.4988 - val_accuracy: 0.7768\n",
            "Epoch 10/100\n",
            "313/313 [==============================] - 11s 36ms/step - loss: 0.4893 - accuracy: 0.7830 - val_loss: 0.4921 - val_accuracy: 0.7754\n",
            "Epoch 11/100\n",
            "313/313 [==============================] - 11s 35ms/step - loss: 0.4805 - accuracy: 0.7867 - val_loss: 0.4827 - val_accuracy: 0.7810\n",
            "Epoch 12/100\n",
            "313/313 [==============================] - 11s 35ms/step - loss: 0.4734 - accuracy: 0.7910 - val_loss: 0.4756 - val_accuracy: 0.7908\n",
            "Epoch 13/100\n",
            "313/313 [==============================] - 11s 35ms/step - loss: 0.4669 - accuracy: 0.7925 - val_loss: 0.4716 - val_accuracy: 0.7876\n",
            "Epoch 14/100\n",
            "313/313 [==============================] - 11s 35ms/step - loss: 0.4607 - accuracy: 0.7945 - val_loss: 0.4667 - val_accuracy: 0.7890\n",
            "Epoch 15/100\n",
            "313/313 [==============================] - 11s 34ms/step - loss: 0.4563 - accuracy: 0.7991 - val_loss: 0.4662 - val_accuracy: 0.7848\n",
            "Epoch 16/100\n",
            "313/313 [==============================] - 11s 35ms/step - loss: 0.4515 - accuracy: 0.8006 - val_loss: 0.4592 - val_accuracy: 0.7916\n",
            "Epoch 17/100\n",
            "313/313 [==============================] - 11s 35ms/step - loss: 0.4476 - accuracy: 0.8030 - val_loss: 0.4642 - val_accuracy: 0.7834\n",
            "Epoch 18/100\n",
            "313/313 [==============================] - 11s 34ms/step - loss: 0.4446 - accuracy: 0.8040 - val_loss: 0.4540 - val_accuracy: 0.7966\n",
            "Epoch 19/100\n",
            "313/313 [==============================] - 11s 35ms/step - loss: 0.4412 - accuracy: 0.8054 - val_loss: 0.4521 - val_accuracy: 0.7942\n",
            "Epoch 20/100\n",
            "313/313 [==============================] - 11s 35ms/step - loss: 0.4379 - accuracy: 0.8066 - val_loss: 0.4486 - val_accuracy: 0.7994\n",
            "Epoch 21/100\n",
            "313/313 [==============================] - 11s 35ms/step - loss: 0.4353 - accuracy: 0.8081 - val_loss: 0.4465 - val_accuracy: 0.7996\n",
            "Epoch 22/100\n",
            "313/313 [==============================] - 11s 34ms/step - loss: 0.4330 - accuracy: 0.8101 - val_loss: 0.4442 - val_accuracy: 0.7998\n",
            "Epoch 23/100\n",
            "313/313 [==============================] - 11s 35ms/step - loss: 0.4303 - accuracy: 0.8090 - val_loss: 0.4425 - val_accuracy: 0.7988\n",
            "Epoch 24/100\n",
            "313/313 [==============================] - 11s 35ms/step - loss: 0.4276 - accuracy: 0.8130 - val_loss: 0.4401 - val_accuracy: 0.8006\n",
            "Epoch 25/100\n",
            "313/313 [==============================] - 11s 35ms/step - loss: 0.4256 - accuracy: 0.8141 - val_loss: 0.4456 - val_accuracy: 0.7940\n",
            "Epoch 26/100\n",
            "313/313 [==============================] - 11s 35ms/step - loss: 0.4229 - accuracy: 0.8128 - val_loss: 0.4375 - val_accuracy: 0.7992\n",
            "Epoch 27/100\n",
            "313/313 [==============================] - 11s 34ms/step - loss: 0.4212 - accuracy: 0.8137 - val_loss: 0.4346 - val_accuracy: 0.8050\n",
            "Epoch 28/100\n",
            "313/313 [==============================] - 11s 35ms/step - loss: 0.4188 - accuracy: 0.8153 - val_loss: 0.4348 - val_accuracy: 0.7986\n",
            "Epoch 29/100\n",
            "313/313 [==============================] - 11s 35ms/step - loss: 0.4171 - accuracy: 0.8144 - val_loss: 0.4342 - val_accuracy: 0.8044\n",
            "Epoch 30/100\n",
            "313/313 [==============================] - 11s 35ms/step - loss: 0.4155 - accuracy: 0.8156 - val_loss: 0.4320 - val_accuracy: 0.8018\n",
            "Epoch 31/100\n",
            "313/313 [==============================] - 11s 36ms/step - loss: 0.4139 - accuracy: 0.8165 - val_loss: 0.4295 - val_accuracy: 0.8030\n",
            "Epoch 32/100\n",
            "313/313 [==============================] - 11s 34ms/step - loss: 0.4117 - accuracy: 0.8160 - val_loss: 0.4281 - val_accuracy: 0.8062\n",
            "Epoch 33/100\n",
            "313/313 [==============================] - 11s 36ms/step - loss: 0.4106 - accuracy: 0.8184 - val_loss: 0.4284 - val_accuracy: 0.8086\n",
            "Epoch 34/100\n",
            "313/313 [==============================] - 11s 35ms/step - loss: 0.4092 - accuracy: 0.8169 - val_loss: 0.4259 - val_accuracy: 0.8050\n",
            "Epoch 35/100\n",
            "313/313 [==============================] - 11s 35ms/step - loss: 0.4074 - accuracy: 0.8195 - val_loss: 0.4251 - val_accuracy: 0.8064\n",
            "Epoch 36/100\n",
            "313/313 [==============================] - 11s 35ms/step - loss: 0.4058 - accuracy: 0.8198 - val_loss: 0.4425 - val_accuracy: 0.7952\n",
            "Epoch 37/100\n",
            "313/313 [==============================] - 11s 35ms/step - loss: 0.4044 - accuracy: 0.8215 - val_loss: 0.4245 - val_accuracy: 0.8086\n",
            "Epoch 38/100\n",
            "313/313 [==============================] - 11s 37ms/step - loss: 0.4031 - accuracy: 0.8206 - val_loss: 0.4283 - val_accuracy: 0.8072\n",
            "Epoch 39/100\n",
            "313/313 [==============================] - 11s 35ms/step - loss: 0.4022 - accuracy: 0.8202 - val_loss: 0.4344 - val_accuracy: 0.8000\n",
            "Epoch 40/100\n",
            "313/313 [==============================] - 11s 35ms/step - loss: 0.4012 - accuracy: 0.8213 - val_loss: 0.4235 - val_accuracy: 0.8078\n",
            "Epoch 41/100\n",
            "313/313 [==============================] - 11s 35ms/step - loss: 0.3998 - accuracy: 0.8237 - val_loss: 0.4229 - val_accuracy: 0.8044\n",
            "Epoch 42/100\n",
            "313/313 [==============================] - 11s 36ms/step - loss: 0.3986 - accuracy: 0.8224 - val_loss: 0.4244 - val_accuracy: 0.8012\n",
            "Epoch 43/100\n",
            "313/313 [==============================] - 11s 36ms/step - loss: 0.3981 - accuracy: 0.8235 - val_loss: 0.4258 - val_accuracy: 0.8040\n",
            "Epoch 44/100\n",
            "313/313 [==============================] - 11s 35ms/step - loss: 0.3963 - accuracy: 0.8237 - val_loss: 0.4208 - val_accuracy: 0.8080\n",
            "Epoch 45/100\n",
            "313/313 [==============================] - 11s 36ms/step - loss: 0.3957 - accuracy: 0.8245 - val_loss: 0.4229 - val_accuracy: 0.8050\n",
            "Epoch 46/100\n",
            "313/313 [==============================] - 11s 35ms/step - loss: 0.3948 - accuracy: 0.8258 - val_loss: 0.4300 - val_accuracy: 0.8030\n",
            "Epoch 47/100\n",
            "313/313 [==============================] - 11s 35ms/step - loss: 0.3940 - accuracy: 0.8247 - val_loss: 0.4197 - val_accuracy: 0.8082\n",
            "Epoch 48/100\n",
            "313/313 [==============================] - 11s 35ms/step - loss: 0.3934 - accuracy: 0.8242 - val_loss: 0.4188 - val_accuracy: 0.8082\n",
            "Epoch 49/100\n",
            "313/313 [==============================] - 11s 35ms/step - loss: 0.3927 - accuracy: 0.8235 - val_loss: 0.4202 - val_accuracy: 0.8076\n",
            "Epoch 50/100\n",
            "313/313 [==============================] - 11s 35ms/step - loss: 0.3917 - accuracy: 0.8248 - val_loss: 0.4189 - val_accuracy: 0.8088\n",
            "Epoch 51/100\n",
            "313/313 [==============================] - 11s 35ms/step - loss: 0.3909 - accuracy: 0.8263 - val_loss: 0.4185 - val_accuracy: 0.8086\n",
            "Epoch 52/100\n",
            "313/313 [==============================] - 11s 35ms/step - loss: 0.3901 - accuracy: 0.8246 - val_loss: 0.4183 - val_accuracy: 0.8080\n",
            "Epoch 53/100\n",
            "313/313 [==============================] - 11s 35ms/step - loss: 0.3887 - accuracy: 0.8272 - val_loss: 0.4199 - val_accuracy: 0.8088\n",
            "Epoch 54/100\n",
            "313/313 [==============================] - 11s 35ms/step - loss: 0.3882 - accuracy: 0.8267 - val_loss: 0.4194 - val_accuracy: 0.8092\n",
            "Epoch 55/100\n",
            "313/313 [==============================] - 11s 36ms/step - loss: 0.3877 - accuracy: 0.8273 - val_loss: 0.4200 - val_accuracy: 0.8094\n"
          ]
        }
      ]
    },
    {
      "cell_type": "code",
      "metadata": {
        "colab": {
          "base_uri": "https://localhost:8080/",
          "height": 279
        },
        "id": "bQynENDG5n-A",
        "outputId": "9aa5e996-d7aa-43cf-af1d-768eb4ccd8f1"
      },
      "source": [
        "plt.plot(history.history['loss'])\n",
        "plt.plot(history.history['val_loss'])\n",
        "plt.xlabel('epoch')\n",
        "plt.ylabel('loss')\n",
        "plt.legend(['train', 'val'])\n",
        "plt.show()"
      ],
      "execution_count": 8,
      "outputs": [
        {
          "output_type": "display_data",
          "data": {
            "image/png": "[encoded data removed]",
            "text/plain": [
              "<Figure size 432x288 with 1 Axes>"
            ]
          },
          "metadata": {
            "needs_background": "light"
          }
        }
      ]
    },
    {
      "cell_type": "code",
      "metadata": {
        "id": "dqV650R46QBo"
      },
      "source": [
        "model2 = keras.Sequential()\n",
        "model2.add(keras.layers.Embedding(500, 16, input_length=100))\n",
        "model2.add(keras.layers.LSTM(8, dropout=0.3))\n",
        "model2.add(keras.layers.Dense(1, activation='sigmoid'))"
      ],
      "execution_count": 9,
      "outputs": []
    },
    {
      "cell_type": "code",
      "metadata": {
        "id": "fHDrL0oXZdeg"
      },
      "source": [
        "rmsprop = keras.optimizers.RMSprop(learning_rate=1e-4)\n",
        "model2.compile(optimizer=rmsprop, loss='binary_crossentropy', metrics=['accuracy'])\n",
        "checkpoint_cb = keras.callbacks.ModelCheckpoint('best-lstm-model.h5')\n",
        "early_stopping_cb = keras.callbacks.EarlyStopping(patience=3, restore_best_weights=True)\n",
        "history = model2.fit(train_seq, train_target, epochs=100, batch_size=64, validation_data=(val_seq, val_target), callbacks=[checkpoint_cb, early_stopping_cb])"
      ],
      "execution_count": 9,
      "outputs": []
    },
    {
      "cell_type": "code",
      "metadata": {
        "colab": {
          "base_uri": "https://localhost:8080/",
          "height": 279
        },
        "id": "9YEhdVEZbTz7",
        "outputId": "754b33be-223f-42e4-8c12-8bb26bdde2f5"
      },
      "source": [
        "plt.plot(history.history['loss'])\n",
        "plt.plot(history.history['val_loss'])\n",
        "plt.xlabel('epoch')\n",
        "plt.ylabel('loss')\n",
        "plt.legend(['train', 'val'])\n",
        "plt.show()"
      ],
      "execution_count": 10,
      "outputs": [
        {
          "output_type": "display_data",
          "data": {
            "image/png": "[encoded data removed]",
            "text/plain": [
              "<Figure size 432x288 with 1 Axes>"
            ]
          },
          "metadata": {
            "needs_background": "light"
          }
        }
      ]
    },
    {
      "cell_type": "code",
      "metadata": {
        "id": "MPfbjdltbWqa"
      },
      "source": [
        "model3 = keras.Sequential()\n",
        "model3.add(keras.layers.Embedding(500, 16, input_length=100))\n",
        "model3.add(keras.layers.LSTM(8, dropout=0.3, return_sequences=True))\n",
        "model3.add(keras.layers.LSTM(8, dropout=0.3))\n",
        "model3.add(keras.layers.Dense(1, activation='sigmoid'))"
      ],
      "execution_count": 13,
      "outputs": []
    },
    {
      "cell_type": "code",
      "metadata": {
        "colab": {
          "base_uri": "https://localhost:8080/"
        },
        "id": "TJjbvFEbbfmr",
        "outputId": "f6b53a9b-e1a7-4f6e-e3b8-7c3f045744ff"
      },
      "source": [
        "rmsprop = keras.optimizers.RMSprop(learning_rate=1e-4)\n",
        "model3.compile(optimizer=rmsprop, loss='binary_crossentropy', metrics=['accuracy'])\n",
        "checkpoint_cb = keras.callbacks.ModelCheckpoint('best-lstm-model.h5')\n",
        "early_stopping_cb = keras.callbacks.EarlyStopping(patience=3, restore_best_weights=True)\n",
        "history = model3.fit(train_seq, train_target, epochs=100, batch_size=64, validation_data=(val_seq, val_target), callbacks=[checkpoint_cb, early_stopping_cb])"
      ],
      "execution_count": 14,
      "outputs": [
        {
          "output_type": "stream",
          "name": "stdout",
          "text": [
            "Epoch 1/100\n",
            "313/313 [==============================] - 26s 73ms/step - loss: 0.6928 - accuracy: 0.5271 - val_loss: 0.6921 - val_accuracy: 0.5714\n",
            "Epoch 2/100\n",
            "313/313 [==============================] - 22s 70ms/step - loss: 0.6909 - accuracy: 0.5921 - val_loss: 0.6889 - val_accuracy: 0.6240\n",
            "Epoch 3/100\n",
            "313/313 [==============================] - 22s 70ms/step - loss: 0.6837 - accuracy: 0.6287 - val_loss: 0.6734 - val_accuracy: 0.6808\n",
            "Epoch 4/100\n",
            "313/313 [==============================] - 22s 69ms/step - loss: 0.6386 - accuracy: 0.6809 - val_loss: 0.5874 - val_accuracy: 0.7214\n",
            "Epoch 5/100\n",
            "313/313 [==============================] - 22s 70ms/step - loss: 0.5700 - accuracy: 0.7194 - val_loss: 0.5417 - val_accuracy: 0.7370\n",
            "Epoch 6/100\n",
            "313/313 [==============================] - 22s 69ms/step - loss: 0.5407 - accuracy: 0.7351 - val_loss: 0.5158 - val_accuracy: 0.7522\n",
            "Epoch 7/100\n",
            "313/313 [==============================] - 22s 71ms/step - loss: 0.5183 - accuracy: 0.7502 - val_loss: 0.4900 - val_accuracy: 0.7738\n",
            "Epoch 8/100\n",
            "313/313 [==============================] - 22s 71ms/step - loss: 0.4998 - accuracy: 0.7634 - val_loss: 0.4776 - val_accuracy: 0.7792\n",
            "Epoch 9/100\n",
            "313/313 [==============================] - 22s 71ms/step - loss: 0.4919 - accuracy: 0.7678 - val_loss: 0.4679 - val_accuracy: 0.7866\n",
            "Epoch 10/100\n",
            "313/313 [==============================] - 22s 71ms/step - loss: 0.4803 - accuracy: 0.7753 - val_loss: 0.4641 - val_accuracy: 0.7844\n",
            "Epoch 11/100\n",
            "313/313 [==============================] - 22s 70ms/step - loss: 0.4726 - accuracy: 0.7807 - val_loss: 0.4651 - val_accuracy: 0.7830\n",
            "Epoch 12/100\n",
            "313/313 [==============================] - 22s 70ms/step - loss: 0.4679 - accuracy: 0.7828 - val_loss: 0.4513 - val_accuracy: 0.7920\n",
            "Epoch 13/100\n",
            "313/313 [==============================] - 22s 70ms/step - loss: 0.4631 - accuracy: 0.7842 - val_loss: 0.4547 - val_accuracy: 0.7866\n",
            "Epoch 14/100\n",
            "313/313 [==============================] - 22s 69ms/step - loss: 0.4588 - accuracy: 0.7887 - val_loss: 0.4468 - val_accuracy: 0.7960\n",
            "Epoch 15/100\n",
            "313/313 [==============================] - 22s 70ms/step - loss: 0.4571 - accuracy: 0.7875 - val_loss: 0.4489 - val_accuracy: 0.7906\n",
            "Epoch 16/100\n",
            "313/313 [==============================] - 22s 70ms/step - loss: 0.4522 - accuracy: 0.7890 - val_loss: 0.4486 - val_accuracy: 0.7894\n",
            "Epoch 17/100\n",
            "313/313 [==============================] - 22s 70ms/step - loss: 0.4516 - accuracy: 0.7905 - val_loss: 0.4407 - val_accuracy: 0.7986\n",
            "Epoch 18/100\n",
            "313/313 [==============================] - 22s 70ms/step - loss: 0.4480 - accuracy: 0.7926 - val_loss: 0.4401 - val_accuracy: 0.7988\n",
            "Epoch 19/100\n",
            "313/313 [==============================] - 22s 71ms/step - loss: 0.4476 - accuracy: 0.7926 - val_loss: 0.4425 - val_accuracy: 0.7896\n",
            "Epoch 20/100\n",
            "313/313 [==============================] - 22s 70ms/step - loss: 0.4447 - accuracy: 0.7947 - val_loss: 0.4377 - val_accuracy: 0.7966\n",
            "Epoch 21/100\n",
            "313/313 [==============================] - 22s 69ms/step - loss: 0.4413 - accuracy: 0.7976 - val_loss: 0.4427 - val_accuracy: 0.7956\n",
            "Epoch 22/100\n",
            "313/313 [==============================] - 22s 69ms/step - loss: 0.4417 - accuracy: 0.7959 - val_loss: 0.4377 - val_accuracy: 0.8020\n",
            "Epoch 23/100\n",
            "313/313 [==============================] - 22s 70ms/step - loss: 0.4394 - accuracy: 0.8008 - val_loss: 0.4354 - val_accuracy: 0.8000\n",
            "Epoch 24/100\n",
            "313/313 [==============================] - 22s 70ms/step - loss: 0.4373 - accuracy: 0.7975 - val_loss: 0.4349 - val_accuracy: 0.7966\n",
            "Epoch 25/100\n",
            "313/313 [==============================] - 22s 71ms/step - loss: 0.4380 - accuracy: 0.7992 - val_loss: 0.4356 - val_accuracy: 0.8040\n",
            "Epoch 26/100\n",
            "313/313 [==============================] - 22s 70ms/step - loss: 0.4346 - accuracy: 0.8005 - val_loss: 0.4335 - val_accuracy: 0.8044\n",
            "Epoch 27/100\n",
            "313/313 [==============================] - 22s 70ms/step - loss: 0.4319 - accuracy: 0.8019 - val_loss: 0.4332 - val_accuracy: 0.8044\n",
            "Epoch 28/100\n",
            "313/313 [==============================] - 22s 70ms/step - loss: 0.4327 - accuracy: 0.8009 - val_loss: 0.4406 - val_accuracy: 0.7916\n",
            "Epoch 29/100\n",
            "313/313 [==============================] - 22s 70ms/step - loss: 0.4324 - accuracy: 0.8013 - val_loss: 0.4335 - val_accuracy: 0.7958\n",
            "Epoch 30/100\n",
            "313/313 [==============================] - 23s 72ms/step - loss: 0.4305 - accuracy: 0.8008 - val_loss: 0.4361 - val_accuracy: 0.7996\n"
          ]
        }
      ]
    },
    {
      "cell_type": "code",
      "metadata": {
        "colab": {
          "base_uri": "https://localhost:8080/",
          "height": 279
        },
        "id": "BE6JRfdykI3a",
        "outputId": "b143bafc-9718-4234-dbf2-8e00c03c35e9"
      },
      "source": [
        "plt.plot(history.history['loss'])\n",
        "plt.plot(history.history['val_loss'])\n",
        "plt.xlabel('epoch')\n",
        "plt.ylabel('loss')\n",
        "plt.legend(['train', 'val'])\n",
        "plt.show()"
      ],
      "execution_count": 15,
      "outputs": [
        {
          "output_type": "display_data",
          "data": {
            "image/png": "[encoded data removed]",
            "text/plain": [
              "<Figure size 432x288 with 1 Axes>"
            ]
          },
          "metadata": {
            "needs_background": "light"
          }
        }
      ]
    },
    {
      "cell_type": "code",
      "metadata": {
        "id": "O4_qFHUekL5R"
      },
      "source": [
        ""
      ],
      "execution_count": null,
      "outputs": []
    }
  ]
}