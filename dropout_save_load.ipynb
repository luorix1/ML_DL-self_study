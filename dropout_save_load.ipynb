{
  "nbformat": 4,
  "nbformat_minor": 0,
  "metadata": {
    "colab": {
      "name": "dropout_save_load",
      "provenance": [],
      "authorship_tag": "ABX9TyMM3UqqMmE9N+rmzgtjcRpz",
      "include_colab_link": true
    },
    "kernelspec": {
      "name": "python3",
      "display_name": "Python 3"
    },
    "language_info": {
      "name": "python"
    }
  },
  "cells": [
    {
      "cell_type": "markdown",
      "metadata": {
        "id": "view-in-github",
        "colab_type": "text"
      },
      "source": [
        "<a href=\"https://colab.research.google.com/github/luorix1/ML_DL-self_study/blob/main/dropout_save_load.ipynb\" target=\"_parent\"><img src=\"https://colab.research.google.com/assets/colab-badge.svg\" alt=\"Open In Colab\"/></a>"
      ]
    },
    {
      "cell_type": "code",
      "metadata": {
        "id": "ogpj7ZYmQ2Q4"
      },
      "source": [
        "import tensorflow as tf\n",
        "from tensorflow import keras\n",
        "import numpy as np\n",
        "from sklearn.model_selection import train_test_split"
      ],
      "execution_count": null,
      "outputs": []
    },
    {
      "cell_type": "code",
      "metadata": {
        "id": "Ttbbs0xOQ7a7"
      },
      "source": [
        "(train_input, train_target), (test_input, test_target) = keras.datasets.fashion_mnist.load_data()"
      ],
      "execution_count": null,
      "outputs": []
    },
    {
      "cell_type": "code",
      "metadata": {
        "id": "59HACaAJREDK"
      },
      "source": [
        "train_scaled = train_input / 255.0\n",
        "train_scaled, val_scaled, train_target, val_target = train_test_split(train_scaled, train_target, test_size=0.2)"
      ],
      "execution_count": null,
      "outputs": []
    },
    {
      "cell_type": "code",
      "metadata": {
        "id": "C2sjbL15h5Qz"
      },
      "source": [
        "def make_model(layers=None):\n",
        "  model = keras.Sequential()\n",
        "  model.add(keras.layers.Flatten(input_shape=(28, 28)))\n",
        "  if layers:\n",
        "    model.add(layers)\n",
        "  model.add(keras.layers.Dense(10, activation='softmax'))\n",
        "  return model"
      ],
      "execution_count": null,
      "outputs": []
    },
    {
      "cell_type": "code",
      "metadata": {
        "colab": {
          "base_uri": "https://localhost:8080/"
        },
        "id": "zn9eRlwlj4NS",
        "outputId": "747d0625-c7ba-48df-c883-74782fd30fe7"
      },
      "source": [
        "test = make_model()\n",
        "test.summary()"
      ],
      "execution_count": null,
      "outputs": [
        {
          "output_type": "stream",
          "name": "stdout",
          "text": [
            "Model: \"sequential_3\"\n",
            "_________________________________________________________________\n",
            "Layer (type)                 Output Shape              Param #   \n",
            "=================================================================\n",
            "flatten_3 (Flatten)          (None, 784)               0         \n",
            "_________________________________________________________________\n",
            "dense_3 (Dense)              (None, 10)                7850      \n",
            "=================================================================\n",
            "Total params: 7,850\n",
            "Trainable params: 7,850\n",
            "Non-trainable params: 0\n",
            "_________________________________________________________________\n"
          ]
        }
      ]
    },
    {
      "cell_type": "code",
      "metadata": {
        "id": "ePmg7MyBj9Sc"
      },
      "source": [
        "test.compile(loss='sparse_categorical_crossentropy', metrics='accuracy')\n",
        "history = test.fit(train_scaled, train_target, epochs=20, verbose=0)"
      ],
      "execution_count": null,
      "outputs": []
    },
    {
      "cell_type": "code",
      "metadata": {
        "colab": {
          "base_uri": "https://localhost:8080/",
          "height": 279
        },
        "id": "tR1X2Y7XmdnR",
        "outputId": "ba566744-9474-4e43-e198-3a01c8d13c97"
      },
      "source": [
        "import matplotlib.pyplot as plt\n",
        "plt.plot(history.history['loss'])\n",
        "plt.xlabel('epoch')\n",
        "plt.ylabel('loss')\n",
        "plt.show()"
      ],
      "execution_count": null,
      "outputs": [
        {
          "output_type": "display_data",
          "data": {
            "image/png": "[encoded data removed]",
            "text/plain": [
              "<Figure size 432x288 with 1 Axes>"
            ]
          },
          "metadata": {
            "needs_background": "light"
          }
        }
      ]
    },
    {
      "cell_type": "code",
      "metadata": {
        "colab": {
          "base_uri": "https://localhost:8080/",
          "height": 279
        },
        "id": "p7zRBhRImx-F",
        "outputId": "629f0f63-55f6-41a5-c3b8-78ea44a869b8"
      },
      "source": [
        "plt.plot(history.history['accuracy'])\n",
        "plt.xlabel('epoch')\n",
        "plt.ylabel('accuracy')\n",
        "plt.show()"
      ],
      "execution_count": null,
      "outputs": [
        {
          "output_type": "display_data",
          "data": {
            "image/png": "[encoded data removed]",
            "text/plain": [
              "<Figure size 432x288 with 1 Axes>"
            ]
          },
          "metadata": {
            "needs_background": "light"
          }
        }
      ]
    },
    {
      "cell_type": "code",
      "metadata": {
        "colab": {
          "base_uri": "https://localhost:8080/"
        },
        "id": "o50QAMBsnMUC",
        "outputId": "08d6143c-1973-48a0-f772-cc59d1db1d18"
      },
      "source": [
        "history = test.fit(train_scaled, train_target, epochs=20, validation_data=(val_scaled, val_target))"
      ],
      "execution_count": null,
      "outputs": [
        {
          "output_type": "stream",
          "name": "stdout",
          "text": [
            "Epoch 1/20\n",
            "1500/1500 [==============================] - 3s 2ms/step - loss: 0.4120 - accuracy: 0.8668 - val_loss: 0.4407 - val_accuracy: 0.8643\n",
            "Epoch 2/20\n",
            "1500/1500 [==============================] - 2s 2ms/step - loss: 0.4110 - accuracy: 0.8656 - val_loss: 0.4459 - val_accuracy: 0.8625\n",
            "Epoch 3/20\n",
            "1500/1500 [==============================] - 2s 2ms/step - loss: 0.4110 - accuracy: 0.8671 - val_loss: 0.4552 - val_accuracy: 0.8582\n",
            "Epoch 4/20\n",
            "1500/1500 [==============================] - 3s 2ms/step - loss: 0.4101 - accuracy: 0.8665 - val_loss: 0.4455 - val_accuracy: 0.8650\n",
            "Epoch 5/20\n",
            "1500/1500 [==============================] - 3s 2ms/step - loss: 0.4091 - accuracy: 0.8669 - val_loss: 0.4524 - val_accuracy: 0.8634\n",
            "Epoch 6/20\n",
            "1500/1500 [==============================] - 3s 2ms/step - loss: 0.4098 - accuracy: 0.8678 - val_loss: 0.4519 - val_accuracy: 0.8626\n",
            "Epoch 7/20\n",
            "1500/1500 [==============================] - 3s 2ms/step - loss: 0.4090 - accuracy: 0.8660 - val_loss: 0.4530 - val_accuracy: 0.8615\n",
            "Epoch 8/20\n",
            "1500/1500 [==============================] - 3s 2ms/step - loss: 0.4082 - accuracy: 0.8679 - val_loss: 0.4621 - val_accuracy: 0.8603\n",
            "Epoch 9/20\n",
            "1500/1500 [==============================] - 3s 2ms/step - loss: 0.4087 - accuracy: 0.8686 - val_loss: 0.4689 - val_accuracy: 0.8600\n",
            "Epoch 10/20\n",
            "1500/1500 [==============================] - 3s 2ms/step - loss: 0.4083 - accuracy: 0.8676 - val_loss: 0.4672 - val_accuracy: 0.8581\n",
            "Epoch 11/20\n",
            "1500/1500 [==============================] - 3s 2ms/step - loss: 0.4082 - accuracy: 0.8679 - val_loss: 0.4566 - val_accuracy: 0.8630\n",
            "Epoch 12/20\n",
            "1500/1500 [==============================] - 2s 2ms/step - loss: 0.4087 - accuracy: 0.8685 - val_loss: 0.4532 - val_accuracy: 0.8654\n",
            "Epoch 13/20\n",
            "1500/1500 [==============================] - 3s 2ms/step - loss: 0.4087 - accuracy: 0.8677 - val_loss: 0.4589 - val_accuracy: 0.8636\n",
            "Epoch 14/20\n",
            "1500/1500 [==============================] - 2s 2ms/step - loss: 0.4087 - accuracy: 0.8681 - val_loss: 0.4556 - val_accuracy: 0.8630\n",
            "Epoch 15/20\n",
            "1500/1500 [==============================] - 3s 2ms/step - loss: 0.4071 - accuracy: 0.8690 - val_loss: 0.4701 - val_accuracy: 0.8596\n",
            "Epoch 16/20\n",
            "1500/1500 [==============================] - 2s 2ms/step - loss: 0.4065 - accuracy: 0.8692 - val_loss: 0.4632 - val_accuracy: 0.8618\n",
            "Epoch 17/20\n",
            "1500/1500 [==============================] - 3s 2ms/step - loss: 0.4071 - accuracy: 0.8689 - val_loss: 0.4640 - val_accuracy: 0.8629\n",
            "Epoch 18/20\n",
            "1500/1500 [==============================] - 3s 2ms/step - loss: 0.4071 - accuracy: 0.8691 - val_loss: 0.4718 - val_accuracy: 0.8602\n",
            "Epoch 19/20\n",
            "1500/1500 [==============================] - 3s 2ms/step - loss: 0.4073 - accuracy: 0.8698 - val_loss: 0.4773 - val_accuracy: 0.8586\n",
            "Epoch 20/20\n",
            "1500/1500 [==============================] - 2s 2ms/step - loss: 0.4074 - accuracy: 0.8701 - val_loss: 0.4610 - val_accuracy: 0.8652\n"
          ]
        }
      ]
    },
    {
      "cell_type": "code",
      "metadata": {
        "colab": {
          "base_uri": "https://localhost:8080/",
          "height": 281
        },
        "id": "p_kovJfmnV7s",
        "outputId": "c3043c74-9d42-4ad4-d2b2-e0d8883bc62b"
      },
      "source": [
        "plt.plot(history.history['loss'])\n",
        "plt.plot(history.history['val_loss'])\n",
        "plt.xlabel('epoch')\n",
        "plt.ylabel('loss')\n",
        "plt.legend(['train', 'val'])\n",
        "plt.show()"
      ],
      "execution_count": null,
      "outputs": [
        {
          "output_type": "display_data",
          "data": {
            "image/png": "[encoded data removed]",
            "text/plain": [
              "<Figure size 432x288 with 1 Axes>"
            ]
          },
          "metadata": {
            "needs_background": "light"
          }
        }
      ]
    },
    {
      "cell_type": "code",
      "metadata": {
        "colab": {
          "base_uri": "https://localhost:8080/"
        },
        "id": "GmblQD-Vomxz",
        "outputId": "efeacf76-313e-4263-8715-37e5055ec2c8"
      },
      "source": [
        "# with 'adam' optimizer\n",
        "model = make_model()\n",
        "model.compile(loss='sparse_categorical_crossentropy', metrics='accuracy', optimizer='adam')\n",
        "history = model.fit(train_scaled, train_target, epochs=20, validation_data=(val_scaled, val_target))"
      ],
      "execution_count": null,
      "outputs": [
        {
          "output_type": "stream",
          "name": "stdout",
          "text": [
            "Epoch 1/20\n",
            "1500/1500 [==============================] - 3s 2ms/step - loss: 0.6296 - accuracy: 0.7890 - val_loss: 0.5054 - val_accuracy: 0.8313\n",
            "Epoch 2/20\n",
            "1500/1500 [==============================] - 2s 2ms/step - loss: 0.4763 - accuracy: 0.8376 - val_loss: 0.4576 - val_accuracy: 0.8456\n",
            "Epoch 3/20\n",
            "1500/1500 [==============================] - 2s 2ms/step - loss: 0.4465 - accuracy: 0.8447 - val_loss: 0.4345 - val_accuracy: 0.8543\n",
            "Epoch 4/20\n",
            "1500/1500 [==============================] - 2s 2ms/step - loss: 0.4316 - accuracy: 0.8511 - val_loss: 0.4261 - val_accuracy: 0.8593\n",
            "Epoch 5/20\n",
            "1500/1500 [==============================] - 3s 2ms/step - loss: 0.4182 - accuracy: 0.8551 - val_loss: 0.4324 - val_accuracy: 0.8579\n",
            "Epoch 6/20\n",
            "1500/1500 [==============================] - 3s 2ms/step - loss: 0.4116 - accuracy: 0.8581 - val_loss: 0.4316 - val_accuracy: 0.8543\n",
            "Epoch 7/20\n",
            "1500/1500 [==============================] - 3s 2ms/step - loss: 0.4061 - accuracy: 0.8587 - val_loss: 0.4123 - val_accuracy: 0.8622\n",
            "Epoch 8/20\n",
            "1500/1500 [==============================] - 3s 2ms/step - loss: 0.4016 - accuracy: 0.8605 - val_loss: 0.4199 - val_accuracy: 0.8583\n",
            "Epoch 9/20\n",
            "1500/1500 [==============================] - 3s 2ms/step - loss: 0.3979 - accuracy: 0.8621 - val_loss: 0.4250 - val_accuracy: 0.8572\n",
            "Epoch 10/20\n",
            "1500/1500 [==============================] - 3s 2ms/step - loss: 0.3956 - accuracy: 0.8614 - val_loss: 0.4162 - val_accuracy: 0.8625\n",
            "Epoch 11/20\n",
            "1500/1500 [==============================] - 3s 2ms/step - loss: 0.3914 - accuracy: 0.8640 - val_loss: 0.4169 - val_accuracy: 0.8591\n",
            "Epoch 12/20\n",
            "1500/1500 [==============================] - 2s 2ms/step - loss: 0.3892 - accuracy: 0.8647 - val_loss: 0.4227 - val_accuracy: 0.8584\n",
            "Epoch 13/20\n",
            "1500/1500 [==============================] - 2s 2ms/step - loss: 0.3868 - accuracy: 0.8644 - val_loss: 0.4129 - val_accuracy: 0.8605\n",
            "Epoch 14/20\n",
            "1500/1500 [==============================] - 3s 2ms/step - loss: 0.3852 - accuracy: 0.8653 - val_loss: 0.4144 - val_accuracy: 0.8620\n",
            "Epoch 15/20\n",
            "1500/1500 [==============================] - 3s 2ms/step - loss: 0.3834 - accuracy: 0.8648 - val_loss: 0.4211 - val_accuracy: 0.8583\n",
            "Epoch 16/20\n",
            "1500/1500 [==============================] - 2s 2ms/step - loss: 0.3816 - accuracy: 0.8651 - val_loss: 0.4151 - val_accuracy: 0.8577\n",
            "Epoch 17/20\n",
            "1500/1500 [==============================] - 3s 2ms/step - loss: 0.3787 - accuracy: 0.8667 - val_loss: 0.4356 - val_accuracy: 0.8524\n",
            "Epoch 18/20\n",
            "1500/1500 [==============================] - 3s 2ms/step - loss: 0.3781 - accuracy: 0.8667 - val_loss: 0.4124 - val_accuracy: 0.8591\n",
            "Epoch 19/20\n",
            "1500/1500 [==============================] - 2s 2ms/step - loss: 0.3763 - accuracy: 0.8672 - val_loss: 0.4092 - val_accuracy: 0.8637\n",
            "Epoch 20/20\n",
            "1500/1500 [==============================] - 3s 2ms/step - loss: 0.3764 - accuracy: 0.8671 - val_loss: 0.4100 - val_accuracy: 0.8619\n"
          ]
        }
      ]
    },
    {
      "cell_type": "code",
      "metadata": {
        "colab": {
          "base_uri": "https://localhost:8080/",
          "height": 279
        },
        "id": "feC_sFIJpAOU",
        "outputId": "1a1883ae-0db7-40e4-8f32-99a3eefb3663"
      },
      "source": [
        "plt.plot(history.history['loss'])\n",
        "plt.plot(history.history['val_loss'])\n",
        "plt.xlabel('epoch')\n",
        "plt.ylabel('loss')\n",
        "plt.legend(['train', 'val'])\n",
        "plt.show()"
      ],
      "execution_count": null,
      "outputs": [
        {
          "output_type": "display_data",
          "data": {
            "image/png": "[encoded data removed]",
            "text/plain": [
              "<Figure size 432x288 with 1 Axes>"
            ]
          },
          "metadata": {
            "needs_background": "light"
          }
        }
      ]
    },
    {
      "cell_type": "code",
      "metadata": {
        "id": "0Y_7g2TqpLWb"
      },
      "source": [
        "# with dropout\n",
        "dropout = make_model(keras.layers.Dropout(0.3))"
      ],
      "execution_count": null,
      "outputs": []
    },
    {
      "cell_type": "code",
      "metadata": {
        "colab": {
          "base_uri": "https://localhost:8080/"
        },
        "id": "_fpKJ_T_r0xA",
        "outputId": "3f6b0b38-cf1b-447f-d97f-5513c22c4116"
      },
      "source": [
        "dropout.compile(optimizer='adam', loss='sparse_categorical_crossentropy', metrics='accuracy')\n",
        "history = dropout.fit(train_scaled, train_target, epochs=20, validation_data=(val_scaled, val_target))"
      ],
      "execution_count": null,
      "outputs": [
        {
          "output_type": "stream",
          "name": "stdout",
          "text": [
            "Epoch 1/20\n",
            "1500/1500 [==============================] - 4s 2ms/step - loss: 0.6918 - accuracy: 0.7585 - val_loss: 0.5243 - val_accuracy: 0.8235\n",
            "Epoch 2/20\n",
            "1500/1500 [==============================] - 3s 2ms/step - loss: 0.5427 - accuracy: 0.8108 - val_loss: 0.4734 - val_accuracy: 0.8445\n",
            "Epoch 3/20\n",
            "1500/1500 [==============================] - 3s 2ms/step - loss: 0.5153 - accuracy: 0.8188 - val_loss: 0.4561 - val_accuracy: 0.8482\n",
            "Epoch 4/20\n",
            "1500/1500 [==============================] - 3s 2ms/step - loss: 0.5026 - accuracy: 0.8231 - val_loss: 0.4501 - val_accuracy: 0.8489\n",
            "Epoch 5/20\n",
            "1500/1500 [==============================] - 3s 2ms/step - loss: 0.5013 - accuracy: 0.8246 - val_loss: 0.4445 - val_accuracy: 0.8503\n",
            "Epoch 6/20\n",
            "1500/1500 [==============================] - 3s 2ms/step - loss: 0.4964 - accuracy: 0.8257 - val_loss: 0.4360 - val_accuracy: 0.8555\n",
            "Epoch 7/20\n",
            "1500/1500 [==============================] - 3s 2ms/step - loss: 0.4936 - accuracy: 0.8240 - val_loss: 0.4393 - val_accuracy: 0.8528\n",
            "Epoch 8/20\n",
            "1500/1500 [==============================] - 3s 2ms/step - loss: 0.4929 - accuracy: 0.8245 - val_loss: 0.4736 - val_accuracy: 0.8322\n",
            "Epoch 9/20\n",
            "1500/1500 [==============================] - 3s 2ms/step - loss: 0.4878 - accuracy: 0.8270 - val_loss: 0.4360 - val_accuracy: 0.8524\n",
            "Epoch 10/20\n",
            "1500/1500 [==============================] - 3s 2ms/step - loss: 0.4895 - accuracy: 0.8260 - val_loss: 0.4324 - val_accuracy: 0.8562\n",
            "Epoch 11/20\n",
            "1500/1500 [==============================] - 3s 2ms/step - loss: 0.4842 - accuracy: 0.8276 - val_loss: 0.4361 - val_accuracy: 0.8555\n",
            "Epoch 12/20\n",
            "1500/1500 [==============================] - 3s 2ms/step - loss: 0.4848 - accuracy: 0.8288 - val_loss: 0.4428 - val_accuracy: 0.8523\n",
            "Epoch 13/20\n",
            "1500/1500 [==============================] - 3s 2ms/step - loss: 0.4843 - accuracy: 0.8276 - val_loss: 0.4335 - val_accuracy: 0.8528\n",
            "Epoch 14/20\n",
            "1500/1500 [==============================] - 3s 2ms/step - loss: 0.4849 - accuracy: 0.8271 - val_loss: 0.4338 - val_accuracy: 0.8561\n",
            "Epoch 15/20\n",
            "1500/1500 [==============================] - 3s 2ms/step - loss: 0.4847 - accuracy: 0.8276 - val_loss: 0.4292 - val_accuracy: 0.8572\n",
            "Epoch 16/20\n",
            "1500/1500 [==============================] - 3s 2ms/step - loss: 0.4831 - accuracy: 0.8283 - val_loss: 0.4352 - val_accuracy: 0.8525\n",
            "Epoch 17/20\n",
            "1500/1500 [==============================] - 3s 2ms/step - loss: 0.4873 - accuracy: 0.8270 - val_loss: 0.4334 - val_accuracy: 0.8539\n",
            "Epoch 18/20\n",
            "1500/1500 [==============================] - 3s 2ms/step - loss: 0.4826 - accuracy: 0.8280 - val_loss: 0.4356 - val_accuracy: 0.8508\n",
            "Epoch 19/20\n",
            "1500/1500 [==============================] - 3s 2ms/step - loss: 0.4841 - accuracy: 0.8271 - val_loss: 0.4407 - val_accuracy: 0.8489\n",
            "Epoch 20/20\n",
            "1500/1500 [==============================] - 3s 2ms/step - loss: 0.4845 - accuracy: 0.8273 - val_loss: 0.4354 - val_accuracy: 0.8535\n"
          ]
        }
      ]
    },
    {
      "cell_type": "code",
      "metadata": {
        "colab": {
          "base_uri": "https://localhost:8080/",
          "height": 280
        },
        "id": "GlGoe1M_sCHf",
        "outputId": "5258227a-b09d-4e2d-f138-efcf47ff683d"
      },
      "source": [
        "plt.plot(history.history['loss'])\n",
        "plt.plot(history.history['val_loss'])\n",
        "plt.xlabel('epoch')\n",
        "plt.ylabel('loss')\n",
        "plt.legend(['train', 'val'])\n",
        "plt.show()"
      ],
      "execution_count": null,
      "outputs": [
        {
          "output_type": "display_data",
          "data": {
            "image/png": "[encoded data removed]",
            "text/plain": [
              "<Figure size 432x288 with 1 Axes>"
            ]
          },
          "metadata": {
            "needs_background": "light"
          }
        }
      ]
    },
    {
      "cell_type": "code",
      "metadata": {
        "id": "xe9E3QSRsV1T"
      },
      "source": [
        "dropout.save_weights('model-weights.h5')"
      ],
      "execution_count": null,
      "outputs": []
    },
    {
      "cell_type": "code",
      "metadata": {
        "colab": {
          "base_uri": "https://localhost:8080/"
        },
        "id": "EjRP1MZbsnMQ",
        "outputId": "8188767a-1e1f-4301-9561-2b820260da77"
      },
      "source": [
        "ls -al *.h5"
      ],
      "execution_count": null,
      "outputs": [
        {
          "output_type": "stream",
          "name": "stdout",
          "text": [
            "-rw-r--r-- 1 root root 41640 Sep 19 01:36 model-weights.h5\n"
          ]
        }
      ]
    },
    {
      "cell_type": "code",
      "metadata": {
        "id": "t3o3Dy7as8gY"
      },
      "source": [
        "new_model = make_model(keras.layers.Dropout(0.3))"
      ],
      "execution_count": null,
      "outputs": []
    },
    {
      "cell_type": "code",
      "metadata": {
        "id": "LvRJTYtztMN_"
      },
      "source": [
        "new_model.load_weights('model-weights.h5')"
      ],
      "execution_count": null,
      "outputs": []
    },
    {
      "cell_type": "code",
      "metadata": {
        "id": "jbTNqIQAtOtw"
      },
      "source": [
        "new_model.compile(optimizer='adam', loss='sparse_categorical_crossentropy', metrics='accuracy')\n",
        "predictions = new_model.predict(val_scaled)"
      ],
      "execution_count": null,
      "outputs": []
    },
    {
      "cell_type": "code",
      "metadata": {
        "colab": {
          "base_uri": "https://localhost:8080/"
        },
        "id": "M9ZMXzZ5tpY8",
        "outputId": "e65117ed-9cbe-472c-c20c-76804cf57f94"
      },
      "source": [
        "print(np.mean(np.argmax(predictions, axis=-1) == val_target))"
      ],
      "execution_count": null,
      "outputs": [
        {
          "output_type": "stream",
          "name": "stdout",
          "text": [
            "0.8535\n"
          ]
        }
      ]
    },
    {
      "cell_type": "code",
      "metadata": {
        "id": "G1XySjgZt3ga"
      },
      "source": [
        "saved = new_model.save('model-whole.h5')"
      ],
      "execution_count": null,
      "outputs": []
    },
    {
      "cell_type": "code",
      "metadata": {
        "id": "7ru5wky_uipT"
      },
      "source": [
        "loaded = keras.models.load_model('model-whole.h5')"
      ],
      "execution_count": null,
      "outputs": []
    },
    {
      "cell_type": "code",
      "metadata": {
        "id": "6Bxg2JfQupZC",
        "colab": {
          "base_uri": "https://localhost:8080/"
        },
        "outputId": "edaa1df8-9838-41ef-d52d-9cea1efe51a6"
      },
      "source": [
        "model.evaluate(val_scaled, val_target)"
      ],
      "execution_count": null,
      "outputs": [
        {
          "output_type": "stream",
          "name": "stdout",
          "text": [
            "375/375 [==============================] - 0s 1ms/step - loss: 0.4100 - accuracy: 0.8619\n"
          ]
        },
        {
          "output_type": "execute_result",
          "data": {
            "text/plain": [
              "[0.40999945998191833, 0.8619166612625122]"
            ]
          },
          "metadata": {},
          "execution_count": 55
        }
      ]
    },
    {
      "cell_type": "code",
      "metadata": {
        "id": "JaO0KXZ3urcq"
      },
      "source": [
        ""
      ],
      "execution_count": null,
      "outputs": []
    }
  ]
}