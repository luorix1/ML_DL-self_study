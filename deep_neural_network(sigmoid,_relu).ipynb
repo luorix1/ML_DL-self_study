{
  "nbformat": 4,
  "nbformat_minor": 0,
  "metadata": {
    "colab": {
      "name": "deep_neural_network(sigmoid, relu)",
      "provenance": [],
      "authorship_tag": "ABX9TyO04XvakdE+wvCu8EddnnWe",
      "include_colab_link": true
    },
    "kernelspec": {
      "name": "python3",
      "display_name": "Python 3"
    },
    "language_info": {
      "name": "python"
    }
  },
  "cells": [
    {
      "cell_type": "markdown",
      "metadata": {
        "id": "view-in-github",
        "colab_type": "text"
      },
      "source": [
        "<a href=\"https://colab.research.google.com/github/luorix1/ML_DL-self_study/blob/main/deep_neural_network(sigmoid%2C_relu).ipynb\" target=\"_parent\"><img src=\"https://colab.research.google.com/assets/colab-badge.svg\" alt=\"Open In Colab\"/></a>"
      ]
    },
    {
      "cell_type": "code",
      "metadata": {
        "id": "eDcf25PQG7sF"
      },
      "source": [
        "import numpy as np\n",
        "import pandas as pd\n",
        "import scipy\n",
        "import matplotlib.pyplot as plt\n",
        "import tensorflow as tf\n",
        "from tensorflow import keras\n",
        "from sklearn.model_selection import train_test_split"
      ],
      "execution_count": 2,
      "outputs": []
    },
    {
      "cell_type": "code",
      "metadata": {
        "id": "Ge_YzX6IIZXV"
      },
      "source": [
        "(train_input, train_target), (test_input, test_target) = keras.datasets.fashion_mnist.load_data()\n",
        "train_scaled = train_input / 255.0\n",
        "train_scaled = train_scaled.reshape(-1, 28**2)\n",
        "train_scaled, val_scaled, train_target, val_target = train_test_split(train_scaled, train_target, test_size=0.2)"
      ],
      "execution_count": 33,
      "outputs": []
    },
    {
      "cell_type": "code",
      "metadata": {
        "colab": {
          "base_uri": "https://localhost:8080/"
        },
        "id": "rdnYumD0JEqC",
        "outputId": "d93f085a-094f-4b0b-f01b-e600daca9ac9"
      },
      "source": [
        "model = keras.Sequential(name='sigmoid')\n",
        "model.add(keras.layers.Dense(100, activation='sigmoid', input_shape=(784,), name='hidden'))\n",
        "model.add(keras.layers.Dense(10, activation='softmax', name='output'))\n",
        "model.summary()"
      ],
      "execution_count": 9,
      "outputs": [
        {
          "output_type": "stream",
          "name": "stdout",
          "text": [
            "Model: \"sigmoid\"\n",
            "_________________________________________________________________\n",
            "Layer (type)                 Output Shape              Param #   \n",
            "=================================================================\n",
            "hidden (Dense)               (None, 100)               78500     \n",
            "_________________________________________________________________\n",
            "output (Dense)               (None, 10)                1010      \n",
            "=================================================================\n",
            "Total params: 79,510\n",
            "Trainable params: 79,510\n",
            "Non-trainable params: 0\n",
            "_________________________________________________________________\n"
          ]
        }
      ]
    },
    {
      "cell_type": "code",
      "metadata": {
        "id": "nlDrS_7UJXL-"
      },
      "source": [
        "\n",
        "model.compile(loss='sparse_categorical_crossentropy', metrics='accuracy')"
      ],
      "execution_count": 10,
      "outputs": []
    },
    {
      "cell_type": "code",
      "metadata": {
        "colab": {
          "base_uri": "https://localhost:8080/"
        },
        "id": "DcmVttYVJrfE",
        "outputId": "d31cdaca-b78d-4f6b-e129-1398bde54c6e"
      },
      "source": [
        "model.fit(train_scaled, train_target, epochs=20)"
      ],
      "execution_count": 11,
      "outputs": [
        {
          "output_type": "stream",
          "name": "stdout",
          "text": [
            "Epoch 1/20\n",
            "1500/1500 [==============================] - 5s 3ms/step - loss: 0.5613 - accuracy: 0.8104\n",
            "Epoch 2/20\n",
            "1500/1500 [==============================] - 4s 3ms/step - loss: 0.4060 - accuracy: 0.8525\n",
            "Epoch 3/20\n",
            "1500/1500 [==============================] - 4s 3ms/step - loss: 0.3719 - accuracy: 0.8656\n",
            "Epoch 4/20\n",
            "1500/1500 [==============================] - 5s 3ms/step - loss: 0.3503 - accuracy: 0.8719\n",
            "Epoch 5/20\n",
            "1500/1500 [==============================] - 5s 3ms/step - loss: 0.3336 - accuracy: 0.8776\n",
            "Epoch 6/20\n",
            "1500/1500 [==============================] - 5s 3ms/step - loss: 0.3197 - accuracy: 0.8834\n",
            "Epoch 7/20\n",
            "1500/1500 [==============================] - 5s 3ms/step - loss: 0.3075 - accuracy: 0.8880\n",
            "Epoch 8/20\n",
            "1500/1500 [==============================] - 5s 3ms/step - loss: 0.2992 - accuracy: 0.8917\n",
            "Epoch 9/20\n",
            "1500/1500 [==============================] - 5s 3ms/step - loss: 0.2884 - accuracy: 0.8951\n",
            "Epoch 10/20\n",
            "1500/1500 [==============================] - 5s 3ms/step - loss: 0.2808 - accuracy: 0.8979\n",
            "Epoch 11/20\n",
            "1500/1500 [==============================] - 5s 3ms/step - loss: 0.2737 - accuracy: 0.8996\n",
            "Epoch 12/20\n",
            "1500/1500 [==============================] - 4s 3ms/step - loss: 0.2675 - accuracy: 0.9026\n",
            "Epoch 13/20\n",
            "1500/1500 [==============================] - 5s 3ms/step - loss: 0.2603 - accuracy: 0.9057\n",
            "Epoch 14/20\n",
            "1500/1500 [==============================] - 5s 3ms/step - loss: 0.2538 - accuracy: 0.9086\n",
            "Epoch 15/20\n",
            "1500/1500 [==============================] - 5s 3ms/step - loss: 0.2498 - accuracy: 0.9093\n",
            "Epoch 16/20\n",
            "1500/1500 [==============================] - 5s 3ms/step - loss: 0.2442 - accuracy: 0.9109\n",
            "Epoch 17/20\n",
            "1500/1500 [==============================] - 5s 3ms/step - loss: 0.2388 - accuracy: 0.9134\n",
            "Epoch 18/20\n",
            "1500/1500 [==============================] - 5s 3ms/step - loss: 0.2336 - accuracy: 0.9149\n",
            "Epoch 19/20\n",
            "1500/1500 [==============================] - 5s 3ms/step - loss: 0.2285 - accuracy: 0.9169\n",
            "Epoch 20/20\n",
            "1500/1500 [==============================] - 5s 3ms/step - loss: 0.2257 - accuracy: 0.9172\n"
          ]
        },
        {
          "output_type": "execute_result",
          "data": {
            "text/plain": [
              "<keras.callbacks.History at 0x7fee46f09650>"
            ]
          },
          "metadata": {},
          "execution_count": 11
        }
      ]
    },
    {
      "cell_type": "code",
      "metadata": {
        "colab": {
          "base_uri": "https://localhost:8080/"
        },
        "id": "ehuu9gmCJvWD",
        "outputId": "f7ad0da3-88c7-499c-f0f3-53f245557d40"
      },
      "source": [
        "model.evaluate(val_scaled, val_target)"
      ],
      "execution_count": 12,
      "outputs": [
        {
          "output_type": "stream",
          "name": "stdout",
          "text": [
            "375/375 [==============================] - 1s 1ms/step - loss: 0.3250 - accuracy: 0.8915\n"
          ]
        },
        {
          "output_type": "execute_result",
          "data": {
            "text/plain": [
              "[0.32498013973236084, 0.8914999961853027]"
            ]
          },
          "metadata": {},
          "execution_count": 12
        }
      ]
    },
    {
      "cell_type": "code",
      "metadata": {
        "id": "ROBa-IU9FZ-x"
      },
      "source": [
        "new_model = keras.Sequential(name='relu')\n",
        "new_model.add(keras.layers.Dense(100, activation='relu', name='hidden', input_shape=(784,)))\n",
        "new_model.add(keras.layers.Dense(10, activation='softmax', name='output'))"
      ],
      "execution_count": 28,
      "outputs": []
    },
    {
      "cell_type": "code",
      "metadata": {
        "colab": {
          "base_uri": "https://localhost:8080/"
        },
        "id": "H1MY1ejnFvh9",
        "outputId": "89ea266c-3a15-4492-8320-1846881a3afe"
      },
      "source": [
        "new_model.summary()"
      ],
      "execution_count": 29,
      "outputs": [
        {
          "output_type": "stream",
          "name": "stdout",
          "text": [
            "Model: \"relu\"\n",
            "_________________________________________________________________\n",
            "Layer (type)                 Output Shape              Param #   \n",
            "=================================================================\n",
            "hidden (Dense)               (None, 100)               78500     \n",
            "_________________________________________________________________\n",
            "output (Dense)               (None, 10)                1010      \n",
            "=================================================================\n",
            "Total params: 79,510\n",
            "Trainable params: 79,510\n",
            "Non-trainable params: 0\n",
            "_________________________________________________________________\n"
          ]
        }
      ]
    },
    {
      "cell_type": "code",
      "metadata": {
        "id": "5Pifi-sLGlv5"
      },
      "source": [
        "new_model.compile(loss='sparse_categorical_crossentropy', metrics='accuracy')"
      ],
      "execution_count": 35,
      "outputs": []
    },
    {
      "cell_type": "code",
      "metadata": {
        "colab": {
          "base_uri": "https://localhost:8080/"
        },
        "id": "fpg3Wer7Jloh",
        "outputId": "03d59c92-0d86-44be-ab8b-e83b3002a109"
      },
      "source": [
        "new_model.fit(train_scaled, train_target, epochs=20)"
      ],
      "execution_count": 36,
      "outputs": [
        {
          "output_type": "stream",
          "name": "stdout",
          "text": [
            "Epoch 1/20\n",
            "1500/1500 [==============================] - 4s 3ms/step - loss: 0.5307 - accuracy: 0.8119\n",
            "Epoch 2/20\n",
            "1500/1500 [==============================] - 4s 2ms/step - loss: 0.3919 - accuracy: 0.8582\n",
            "Epoch 3/20\n",
            "1500/1500 [==============================] - 4s 2ms/step - loss: 0.3574 - accuracy: 0.8714\n",
            "Epoch 4/20\n",
            "1500/1500 [==============================] - 4s 3ms/step - loss: 0.3361 - accuracy: 0.8796\n",
            "Epoch 5/20\n",
            "1500/1500 [==============================] - 4s 2ms/step - loss: 0.3227 - accuracy: 0.8840\n",
            "Epoch 6/20\n",
            "1500/1500 [==============================] - 4s 3ms/step - loss: 0.3071 - accuracy: 0.8907\n",
            "Epoch 7/20\n",
            "1500/1500 [==============================] - 4s 2ms/step - loss: 0.2994 - accuracy: 0.8932\n",
            "Epoch 8/20\n",
            "1500/1500 [==============================] - 4s 3ms/step - loss: 0.2912 - accuracy: 0.8970\n",
            "Epoch 9/20\n",
            "1500/1500 [==============================] - 5s 3ms/step - loss: 0.2859 - accuracy: 0.9000\n",
            "Epoch 10/20\n",
            "1500/1500 [==============================] - 5s 3ms/step - loss: 0.2808 - accuracy: 0.9016\n",
            "Epoch 11/20\n",
            "1500/1500 [==============================] - 5s 3ms/step - loss: 0.2727 - accuracy: 0.9049\n",
            "Epoch 12/20\n",
            "1500/1500 [==============================] - 4s 3ms/step - loss: 0.2655 - accuracy: 0.9071\n",
            "Epoch 13/20\n",
            "1500/1500 [==============================] - 5s 3ms/step - loss: 0.2601 - accuracy: 0.9101\n",
            "Epoch 14/20\n",
            "1500/1500 [==============================] - 5s 3ms/step - loss: 0.2558 - accuracy: 0.9121\n",
            "Epoch 15/20\n",
            "1500/1500 [==============================] - 4s 3ms/step - loss: 0.2528 - accuracy: 0.9130\n",
            "Epoch 16/20\n",
            "1500/1500 [==============================] - 4s 3ms/step - loss: 0.2487 - accuracy: 0.9143\n",
            "Epoch 17/20\n",
            "1500/1500 [==============================] - 4s 2ms/step - loss: 0.2428 - accuracy: 0.9159\n",
            "Epoch 18/20\n",
            "1500/1500 [==============================] - 4s 2ms/step - loss: 0.2383 - accuracy: 0.9181\n",
            "Epoch 19/20\n",
            "1500/1500 [==============================] - 4s 2ms/step - loss: 0.2378 - accuracy: 0.9188\n",
            "Epoch 20/20\n",
            "1500/1500 [==============================] - 4s 2ms/step - loss: 0.2336 - accuracy: 0.9205\n"
          ]
        },
        {
          "output_type": "execute_result",
          "data": {
            "text/plain": [
              "<keras.callbacks.History at 0x7fee469038d0>"
            ]
          },
          "metadata": {},
          "execution_count": 36
        }
      ]
    },
    {
      "cell_type": "code",
      "metadata": {
        "colab": {
          "base_uri": "https://localhost:8080/"
        },
        "id": "Hp5zLN_oJn_c",
        "outputId": "5dddb115-29f8-4e59-d0de-bab0d97d23c8"
      },
      "source": [
        "model.evaluate(val_scaled, val_target)"
      ],
      "execution_count": 37,
      "outputs": [
        {
          "output_type": "stream",
          "name": "stdout",
          "text": [
            "375/375 [==============================] - 1s 2ms/step - loss: 0.2325 - accuracy: 0.9180\n"
          ]
        },
        {
          "output_type": "execute_result",
          "data": {
            "text/plain": [
              "[0.23247411847114563, 0.9179999828338623]"
            ]
          },
          "metadata": {},
          "execution_count": 37
        }
      ]
    }
  ]
}