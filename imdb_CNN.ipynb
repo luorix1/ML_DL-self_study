{
  "nbformat": 4,
  "nbformat_minor": 0,
  "metadata": {
    "colab": {
      "name": "imdb_CNN",
      "provenance": [],
      "authorship_tag": "ABX9TyNJNI7q3Sz3d24x7womjcAH",
      "include_colab_link": true
    },
    "kernelspec": {
      "name": "python3",
      "display_name": "Python 3"
    },
    "language_info": {
      "name": "python"
    }
  },
  "cells": [
    {
      "cell_type": "markdown",
      "metadata": {
        "id": "view-in-github",
        "colab_type": "text"
      },
      "source": [
        "<a href=\"https://colab.research.google.com/github/luorix1/ML_DL-self_study/blob/main/imdb_CNN.ipynb\" target=\"_parent\"><img src=\"https://colab.research.google.com/assets/colab-badge.svg\" alt=\"Open In Colab\"/></a>"
      ]
    },
    {
      "cell_type": "code",
      "metadata": {
        "id": "Hq96__pyuM8w"
      },
      "source": [
        "from tensorflow import keras\n",
        "from tensorflow.keras.datasets import imdb\n",
        "from tensorflow.keras.preprocessing.sequence import pad_sequences\n",
        "from tensorflow.keras.models import Sequential\n",
        "from tensorflow.keras.layers import Dense, Flatten, Dropout\n",
        "from tensorflow.keras.layers import Embedding\n",
        "from tensorflow.keras.callbacks import ModelCheckpoint\n",
        "import os\n",
        "from sklearn.metrics import roc_auc_score, roc_curve\n",
        "import pandas as pd\n",
        "import matplotlib.pyplot as plt\n",
        "from keras.layers import Conv1D, GlobalMaxPooling1D\n",
        "from keras.layers import SpatialDropout1D"
      ],
      "execution_count": 1,
      "outputs": []
    },
    {
      "cell_type": "code",
      "metadata": {
        "id": "09dYO3_Wu1Gn"
      },
      "source": [
        "# output directory\n",
        "output_dir = 'model_output/dense'\n",
        "\n",
        "# train\n",
        "epochs = 4\n",
        "batch_size = 128\n",
        "\n",
        "# vector space embedding\n",
        "n_dim = 64\n",
        "n_unique_words = 5000\n",
        "n_words_to_skip = 50\n",
        "max_review_length = 100\n",
        "pad_type = trunc_type = 'pre'\n",
        "drop_embed = 0.2\n",
        "\n",
        "# convolution layers\n",
        "n_conv = 256\n",
        "k_conv = 3\n",
        "\n",
        "# dense layers\n",
        "n_dense = 256\n",
        "dropout = 0.2"
      ],
      "execution_count": 4,
      "outputs": []
    },
    {
      "cell_type": "code",
      "metadata": {
        "colab": {
          "base_uri": "https://localhost:8080/"
        },
        "id": "C41oShPkyKL1",
        "outputId": "68313598-6a76-4f1c-f13f-378f49228b67"
      },
      "source": [
        "(x_train, y_train), (x_valid, y_valid) = imdb.load_data(num_words=n_unique_words, skip_top=n_words_to_skip)"
      ],
      "execution_count": 9,
      "outputs": [
        {
          "output_type": "stream",
          "name": "stdout",
          "text": [
            "Downloading data from https://storage.googleapis.com/tensorflow/tf-keras-datasets/imdb.npz\n",
            "17465344/17464789 [==============================] - 0s 0us/step\n",
            "17473536/17464789 [==============================] - 0s 0us/step\n"
          ]
        }
      ]
    },
    {
      "cell_type": "code",
      "metadata": {
        "id": "ubJ109QTyVe3"
      },
      "source": [
        "# pad and cut text\n",
        "x_train = pad_sequences(x_train, maxlen=max_review_length, padding=pad_type, truncating=trunc_type)\n",
        "x_valid = pad_sequences(x_valid, maxlen=max_review_length, padding=pad_type, truncating=trunc_type)"
      ],
      "execution_count": 13,
      "outputs": []
    },
    {
      "cell_type": "code",
      "metadata": {
        "id": "t64o4chou3Iv"
      },
      "source": [
        "# model\n",
        "model = Sequential()\n",
        "\n",
        "# vector space embedding\n",
        "model.add(Embedding(n_unique_words, n_dim, input_length=max_review_length))\n",
        "model.add(SpatialDropout1D(drop_embed))\n",
        "\n",
        "# convolution layers\n",
        "model.add(Conv1D(n_conv, k_conv, activation='relu'))\n",
        "model.add(GlobalMaxPooling1D())\n",
        "\n",
        "# dense layers\n",
        "model.add(Dense(n_dense, activation='relu'))\n",
        "model.add(Dropout(dropout))\n",
        "\n",
        "# output layer\n",
        "model.add(Dense(1, activation='sigmoid'))"
      ],
      "execution_count": 5,
      "outputs": []
    },
    {
      "cell_type": "code",
      "metadata": {
        "id": "CdS4gk2lyQ8d"
      },
      "source": [
        "model.compile(loss='binary_crossentropy', optimizer='adam', metrics=['accuracy'])"
      ],
      "execution_count": 11,
      "outputs": []
    },
    {
      "cell_type": "code",
      "metadata": {
        "id": "7L77UEXvx_4w"
      },
      "source": [
        "# set checkpoint\n",
        "modelcheckpoint = ModelCheckpoint(filepath=output_dir + '/weights.{epoch:02d}.hdf5')\n",
        "\n",
        "if not os.path.exists(output_dir):\n",
        "  os.makedirs(output_dir)"
      ],
      "execution_count": 7,
      "outputs": []
    },
    {
      "cell_type": "code",
      "metadata": {
        "colab": {
          "base_uri": "https://localhost:8080/"
        },
        "id": "D6UT8kPPyC5Z",
        "outputId": "4b994254-5c0e-4035-f9a4-a4cc79a8770d"
      },
      "source": [
        "# train model\n",
        "model.fit(x_train, y_train, batch_size=batch_size, epochs=epochs, validation_data=(x_valid, y_valid), callbacks=[modelcheckpoint])"
      ],
      "execution_count": 14,
      "outputs": [
        {
          "output_type": "stream",
          "name": "stdout",
          "text": [
            "Epoch 1/4\n",
            "196/196 [==============================] - 27s 131ms/step - loss: 0.5180 - accuracy: 0.7223 - val_loss: 0.3773 - val_accuracy: 0.8293\n",
            "Epoch 2/4\n",
            "196/196 [==============================] - 25s 130ms/step - loss: 0.3179 - accuracy: 0.8650 - val_loss: 0.3575 - val_accuracy: 0.8421\n",
            "Epoch 3/4\n",
            "196/196 [==============================] - 26s 131ms/step - loss: 0.2392 - accuracy: 0.9039 - val_loss: 0.3603 - val_accuracy: 0.8434\n",
            "Epoch 4/4\n",
            "196/196 [==============================] - 26s 130ms/step - loss: 0.1716 - accuracy: 0.9338 - val_loss: 0.4719 - val_accuracy: 0.8234\n"
          ]
        },
        {
          "output_type": "execute_result",
          "data": {
            "text/plain": [
              "<keras.callbacks.History at 0x7f8c17c91590>"
            ]
          },
          "metadata": {},
          "execution_count": 14
        }
      ]
    },
    {
      "cell_type": "code",
      "metadata": {
        "id": "Wi-1coB4yFlg"
      },
      "source": [
        "model.load_weights(output_dir + '/weights.03.hdf5')"
      ],
      "execution_count": 15,
      "outputs": []
    },
    {
      "cell_type": "code",
      "metadata": {
        "colab": {
          "base_uri": "https://localhost:8080/"
        },
        "id": "SqTeSsCazI6d",
        "outputId": "8a5e1c24-5cb1-4cd5-fc6d-9fae04e81a8a"
      },
      "source": [
        "# calculate y hat\n",
        "y_hat = model.predict(x_valid)\n",
        "print(y_hat)"
      ],
      "execution_count": 16,
      "outputs": [
        {
          "output_type": "stream",
          "name": "stdout",
          "text": [
            "[[0.12821403]\n",
            " [0.9784823 ]\n",
            " [0.9733495 ]\n",
            " ...\n",
            " [0.01879212]\n",
            " [0.04542023]\n",
            " [0.57409734]]\n"
          ]
        }
      ]
    },
    {
      "cell_type": "code",
      "metadata": {
        "colab": {
          "base_uri": "https://localhost:8080/",
          "height": 265
        },
        "id": "YOp5y1TizM7a",
        "outputId": "741f9cdd-578d-4bbc-db50-263fc1dcd4ed"
      },
      "source": [
        "plt.hist(y_hat)\n",
        "_ = plt.axvline(x=0.5, color='orange')"
      ],
      "execution_count": 17,
      "outputs": [
        {
          "output_type": "display_data",
          "data": {
            "image/png": "[encoded data removed]",
            "text/plain": [
              "<Figure size 432x288 with 1 Axes>"
            ]
          },
          "metadata": {
            "needs_background": "light"
          }
        }
      ]
    },
    {
      "cell_type": "code",
      "metadata": {
        "id": "saif3KFFzPXC"
      },
      "source": [
        ""
      ],
      "execution_count": null,
      "outputs": []
    }
  ]
}