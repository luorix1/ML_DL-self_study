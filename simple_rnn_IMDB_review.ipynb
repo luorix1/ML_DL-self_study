{
  "nbformat": 4,
  "nbformat_minor": 0,
  "metadata": {
    "colab": {
      "name": "simple_rnn_IMDB_review",
      "provenance": [],
      "authorship_tag": "ABX9TyOaSTOcyHfPNJ9pb1yG1ZMK",
      "include_colab_link": true
    },
    "kernelspec": {
      "name": "python3",
      "display_name": "Python 3"
    },
    "language_info": {
      "name": "python"
    }
  },
  "cells": [
    {
      "cell_type": "markdown",
      "metadata": {
        "id": "view-in-github",
        "colab_type": "text"
      },
      "source": [
        "<a href=\"https://colab.research.google.com/github/luorix1/ML_DL-self_study/blob/main/simple_rnn_IMDB_review.ipynb\" target=\"_parent\"><img src=\"https://colab.research.google.com/assets/colab-badge.svg\" alt=\"Open In Colab\"/></a>"
      ]
    },
    {
      "cell_type": "code",
      "metadata": {
        "id": "oD_UAjEiQJ64"
      },
      "source": [
        "import tensorflow as tf\n",
        "from tensorflow import keras\n",
        "import numpy as np\n",
        "import pandas as pd\n",
        "from sklearn.model_selection import train_test_split\n",
        "import matplotlib.pyplot as plt"
      ],
      "execution_count": 16,
      "outputs": []
    },
    {
      "cell_type": "code",
      "metadata": {
        "colab": {
          "base_uri": "https://localhost:8080/"
        },
        "id": "M9yc0t4es4vw",
        "outputId": "9d6b9d9c-deca-493c-c175-2463c848bedd"
      },
      "source": [
        "(train_input, train_target), (test_input, test_target) = keras.datasets.imdb.load_data(num_words=500)"
      ],
      "execution_count": 2,
      "outputs": [
        {
          "output_type": "stream",
          "name": "stdout",
          "text": [
            "Downloading data from https://storage.googleapis.com/tensorflow/tf-keras-datasets/imdb.npz\n",
            "17465344/17464789 [==============================] - 0s 0us/step\n",
            "17473536/17464789 [==============================] - 0s 0us/step\n"
          ]
        }
      ]
    },
    {
      "cell_type": "code",
      "metadata": {
        "id": "y80dmP5dtC2o"
      },
      "source": [
        "train_input, val_input, train_target, val_target = train_test_split(train_input, train_target, test_size=0.2)"
      ],
      "execution_count": 3,
      "outputs": []
    },
    {
      "cell_type": "code",
      "metadata": {
        "id": "pMegcyxjtSW1"
      },
      "source": [
        "# keras.preprocessing.sequence.pad_sequences(input, maxlen)\n",
        "# assumes important data is at the back"
      ],
      "execution_count": 4,
      "outputs": []
    },
    {
      "cell_type": "code",
      "metadata": {
        "id": "sdYAqtyk0EId"
      },
      "source": [
        "from keras.preprocessing.sequence import pad_sequences\n",
        "train_seq = pad_sequences(train_input, maxlen=100)\n",
        "val_seq = pad_sequences(val_input, maxlen=100)"
      ],
      "execution_count": 5,
      "outputs": []
    },
    {
      "cell_type": "code",
      "metadata": {
        "id": "AiI9on-P_h7t"
      },
      "source": [
        "model = keras.Sequential()\n",
        "model.add(keras.layers.SimpleRNN(8, input_shape=(100, 500)))\n",
        "model.add(keras.layers.Dense(1, activation='sigmoid'))"
      ],
      "execution_count": 6,
      "outputs": []
    },
    {
      "cell_type": "code",
      "metadata": {
        "colab": {
          "base_uri": "https://localhost:8080/"
        },
        "id": "EcROmCil_pjk",
        "outputId": "5ddf75fc-a9b0-4716-bebf-84f657f1304b"
      },
      "source": [
        "# one-hot encoding\n",
        "train_oh = keras.utils.to_categorical(train_seq)\n",
        "val_oh = keras.utils.to_categorical(val_seq)\n",
        "print(train_oh.shape)"
      ],
      "execution_count": 13,
      "outputs": [
        {
          "output_type": "stream",
          "name": "stdout",
          "text": [
            "(20000, 100, 500)\n"
          ]
        }
      ]
    },
    {
      "cell_type": "code",
      "metadata": {
        "colab": {
          "base_uri": "https://localhost:8080/"
        },
        "id": "oswy6nZp_rKh",
        "outputId": "0f371035-095b-444d-dc0b-af8d6d1edfa1"
      },
      "source": [
        "rmsprop = keras.optimizers.RMSprop(learning_rate=1e-4)\n",
        "model.compile(optimizer=rmsprop, loss='binary_crossentropy', metrics=['accuracy'])\n",
        "checkpoint_cb = keras.callbacks.ModelCheckpoint('best-simplernn-model.h5')\n",
        "early_stopping_cb = keras.callbacks.EarlyStopping(patience=3, restore_best_weights=True)\n",
        "history = model.fit(train_oh, train_target, epochs=100, batch_size=64, validation_data=(val_oh, val_target), callbacks=[checkpoint_cb, early_stopping_cb])"
      ],
      "execution_count": 14,
      "outputs": [
        {
          "output_type": "stream",
          "name": "stdout",
          "text": [
            "Epoch 1/100\n",
            "313/313 [==============================] - 16s 49ms/step - loss: 0.6918 - accuracy: 0.5188 - val_loss: 0.6928 - val_accuracy: 0.5156\n",
            "Epoch 2/100\n",
            "313/313 [==============================] - 15s 47ms/step - loss: 0.6906 - accuracy: 0.5275 - val_loss: 0.6922 - val_accuracy: 0.5170\n",
            "Epoch 3/100\n",
            "313/313 [==============================] - 15s 47ms/step - loss: 0.6894 - accuracy: 0.5352 - val_loss: 0.6919 - val_accuracy: 0.5186\n",
            "Epoch 4/100\n",
            "313/313 [==============================] - 15s 49ms/step - loss: 0.6882 - accuracy: 0.5382 - val_loss: 0.6912 - val_accuracy: 0.5234\n",
            "Epoch 5/100\n",
            "313/313 [==============================] - 15s 48ms/step - loss: 0.6870 - accuracy: 0.5445 - val_loss: 0.6908 - val_accuracy: 0.5244\n",
            "Epoch 6/100\n",
            "313/313 [==============================] - 15s 47ms/step - loss: 0.6858 - accuracy: 0.5473 - val_loss: 0.6904 - val_accuracy: 0.5200\n",
            "Epoch 7/100\n",
            "313/313 [==============================] - 15s 48ms/step - loss: 0.6845 - accuracy: 0.5542 - val_loss: 0.6901 - val_accuracy: 0.5250\n",
            "Epoch 8/100\n",
            "313/313 [==============================] - 15s 46ms/step - loss: 0.6833 - accuracy: 0.5608 - val_loss: 0.6898 - val_accuracy: 0.5262\n",
            "Epoch 9/100\n",
            "313/313 [==============================] - 15s 47ms/step - loss: 0.6819 - accuracy: 0.5678 - val_loss: 0.6902 - val_accuracy: 0.5256\n",
            "Epoch 10/100\n",
            "313/313 [==============================] - 15s 47ms/step - loss: 0.6807 - accuracy: 0.5709 - val_loss: 0.6899 - val_accuracy: 0.5296\n",
            "Epoch 11/100\n",
            "313/313 [==============================] - 15s 47ms/step - loss: 0.6793 - accuracy: 0.5738 - val_loss: 0.6892 - val_accuracy: 0.5300\n",
            "Epoch 12/100\n",
            "313/313 [==============================] - 14s 46ms/step - loss: 0.6779 - accuracy: 0.5777 - val_loss: 0.6895 - val_accuracy: 0.5336\n",
            "Epoch 13/100\n",
            "313/313 [==============================] - 15s 47ms/step - loss: 0.6765 - accuracy: 0.5824 - val_loss: 0.6895 - val_accuracy: 0.5340\n",
            "Epoch 14/100\n",
            "313/313 [==============================] - 15s 47ms/step - loss: 0.6750 - accuracy: 0.5844 - val_loss: 0.6891 - val_accuracy: 0.5362\n",
            "Epoch 15/100\n",
            "313/313 [==============================] - 15s 49ms/step - loss: 0.6734 - accuracy: 0.5874 - val_loss: 0.6890 - val_accuracy: 0.5368\n",
            "Epoch 16/100\n",
            "313/313 [==============================] - 15s 47ms/step - loss: 0.6718 - accuracy: 0.5923 - val_loss: 0.6893 - val_accuracy: 0.5366\n",
            "Epoch 17/100\n",
            "313/313 [==============================] - 15s 48ms/step - loss: 0.6703 - accuracy: 0.5944 - val_loss: 0.6895 - val_accuracy: 0.5384\n",
            "Epoch 18/100\n",
            "313/313 [==============================] - 15s 47ms/step - loss: 0.6686 - accuracy: 0.5975 - val_loss: 0.6888 - val_accuracy: 0.5394\n",
            "Epoch 19/100\n",
            "313/313 [==============================] - 15s 48ms/step - loss: 0.6669 - accuracy: 0.5994 - val_loss: 0.6884 - val_accuracy: 0.5390\n",
            "Epoch 20/100\n",
            "313/313 [==============================] - 15s 47ms/step - loss: 0.6651 - accuracy: 0.6041 - val_loss: 0.6889 - val_accuracy: 0.5396\n",
            "Epoch 21/100\n",
            "313/313 [==============================] - 15s 47ms/step - loss: 0.6632 - accuracy: 0.6069 - val_loss: 0.6885 - val_accuracy: 0.5416\n",
            "Epoch 22/100\n",
            "313/313 [==============================] - 15s 47ms/step - loss: 0.6613 - accuracy: 0.6109 - val_loss: 0.6883 - val_accuracy: 0.5472\n",
            "Epoch 23/100\n",
            "313/313 [==============================] - 15s 49ms/step - loss: 0.6593 - accuracy: 0.6135 - val_loss: 0.6873 - val_accuracy: 0.5456\n",
            "Epoch 24/100\n",
            "313/313 [==============================] - 15s 48ms/step - loss: 0.6572 - accuracy: 0.6187 - val_loss: 0.6871 - val_accuracy: 0.5450\n",
            "Epoch 25/100\n",
            "313/313 [==============================] - 15s 47ms/step - loss: 0.6548 - accuracy: 0.6230 - val_loss: 0.6863 - val_accuracy: 0.5448\n",
            "Epoch 26/100\n",
            "313/313 [==============================] - 15s 48ms/step - loss: 0.6522 - accuracy: 0.6259 - val_loss: 0.6857 - val_accuracy: 0.5500\n",
            "Epoch 27/100\n",
            "313/313 [==============================] - 15s 48ms/step - loss: 0.6492 - accuracy: 0.6310 - val_loss: 0.6855 - val_accuracy: 0.5530\n",
            "Epoch 28/100\n",
            "313/313 [==============================] - 14s 46ms/step - loss: 0.6456 - accuracy: 0.6388 - val_loss: 0.6821 - val_accuracy: 0.5598\n",
            "Epoch 29/100\n",
            "313/313 [==============================] - 15s 47ms/step - loss: 0.6411 - accuracy: 0.6471 - val_loss: 0.6764 - val_accuracy: 0.5734\n",
            "Epoch 30/100\n",
            "313/313 [==============================] - 15s 47ms/step - loss: 0.6339 - accuracy: 0.6599 - val_loss: 0.6610 - val_accuracy: 0.6106\n",
            "Epoch 31/100\n",
            "313/313 [==============================] - 15s 48ms/step - loss: 0.6235 - accuracy: 0.6791 - val_loss: 0.6482 - val_accuracy: 0.6348\n",
            "Epoch 32/100\n",
            "313/313 [==============================] - 15s 47ms/step - loss: 0.6098 - accuracy: 0.6964 - val_loss: 0.6338 - val_accuracy: 0.6558\n",
            "Epoch 33/100\n",
            "313/313 [==============================] - 15s 48ms/step - loss: 0.5934 - accuracy: 0.7139 - val_loss: 0.6178 - val_accuracy: 0.6790\n",
            "Epoch 34/100\n",
            "313/313 [==============================] - 15s 47ms/step - loss: 0.5770 - accuracy: 0.7280 - val_loss: 0.6012 - val_accuracy: 0.6924\n",
            "Epoch 35/100\n",
            "313/313 [==============================] - 15s 48ms/step - loss: 0.5604 - accuracy: 0.7434 - val_loss: 0.5827 - val_accuracy: 0.7158\n",
            "Epoch 36/100\n",
            "313/313 [==============================] - 15s 49ms/step - loss: 0.5440 - accuracy: 0.7561 - val_loss: 0.5680 - val_accuracy: 0.7206\n",
            "Epoch 37/100\n",
            "313/313 [==============================] - 15s 47ms/step - loss: 0.5289 - accuracy: 0.7659 - val_loss: 0.5536 - val_accuracy: 0.7406\n",
            "Epoch 38/100\n",
            "313/313 [==============================] - 15s 47ms/step - loss: 0.5160 - accuracy: 0.7732 - val_loss: 0.5429 - val_accuracy: 0.7418\n",
            "Epoch 39/100\n",
            "313/313 [==============================] - 15s 47ms/step - loss: 0.5032 - accuracy: 0.7814 - val_loss: 0.5292 - val_accuracy: 0.7552\n",
            "Epoch 40/100\n",
            "313/313 [==============================] - 15s 48ms/step - loss: 0.4913 - accuracy: 0.7900 - val_loss: 0.5246 - val_accuracy: 0.7528\n",
            "Epoch 41/100\n",
            "313/313 [==============================] - 17s 56ms/step - loss: 0.4812 - accuracy: 0.7946 - val_loss: 0.5122 - val_accuracy: 0.7652\n",
            "Epoch 42/100\n",
            "313/313 [==============================] - 14s 43ms/step - loss: 0.4719 - accuracy: 0.8013 - val_loss: 0.5062 - val_accuracy: 0.7636\n",
            "Epoch 43/100\n",
            "313/313 [==============================] - 14s 43ms/step - loss: 0.4637 - accuracy: 0.8026 - val_loss: 0.4961 - val_accuracy: 0.7744\n",
            "Epoch 44/100\n",
            "313/313 [==============================] - 14s 43ms/step - loss: 0.4565 - accuracy: 0.8050 - val_loss: 0.4898 - val_accuracy: 0.7802\n",
            "Epoch 45/100\n",
            "313/313 [==============================] - 14s 44ms/step - loss: 0.4489 - accuracy: 0.8102 - val_loss: 0.4847 - val_accuracy: 0.7826\n",
            "Epoch 46/100\n",
            "313/313 [==============================] - 14s 43ms/step - loss: 0.4430 - accuracy: 0.8123 - val_loss: 0.4851 - val_accuracy: 0.7780\n",
            "Epoch 47/100\n",
            "313/313 [==============================] - 14s 43ms/step - loss: 0.4375 - accuracy: 0.8141 - val_loss: 0.4770 - val_accuracy: 0.7826\n",
            "Epoch 48/100\n",
            "313/313 [==============================] - 14s 44ms/step - loss: 0.4327 - accuracy: 0.8160 - val_loss: 0.4726 - val_accuracy: 0.7870\n",
            "Epoch 49/100\n",
            "313/313 [==============================] - 14s 43ms/step - loss: 0.4275 - accuracy: 0.8182 - val_loss: 0.4695 - val_accuracy: 0.7856\n",
            "Epoch 50/100\n",
            "313/313 [==============================] - 14s 44ms/step - loss: 0.4235 - accuracy: 0.8193 - val_loss: 0.4806 - val_accuracy: 0.7756\n",
            "Epoch 51/100\n",
            "313/313 [==============================] - 14s 43ms/step - loss: 0.4192 - accuracy: 0.8216 - val_loss: 0.4670 - val_accuracy: 0.7854\n",
            "Epoch 52/100\n",
            "313/313 [==============================] - 14s 43ms/step - loss: 0.4152 - accuracy: 0.8223 - val_loss: 0.4640 - val_accuracy: 0.7892\n",
            "Epoch 53/100\n",
            "313/313 [==============================] - 14s 43ms/step - loss: 0.4115 - accuracy: 0.8230 - val_loss: 0.4714 - val_accuracy: 0.7818\n",
            "Epoch 54/100\n",
            "313/313 [==============================] - 13s 43ms/step - loss: 0.4083 - accuracy: 0.8238 - val_loss: 0.4662 - val_accuracy: 0.7856\n",
            "Epoch 55/100\n",
            "313/313 [==============================] - 14s 43ms/step - loss: 0.4054 - accuracy: 0.8277 - val_loss: 0.4636 - val_accuracy: 0.7860\n",
            "Epoch 56/100\n",
            "313/313 [==============================] - 14s 44ms/step - loss: 0.4030 - accuracy: 0.8262 - val_loss: 0.4586 - val_accuracy: 0.7892\n",
            "Epoch 57/100\n",
            "313/313 [==============================] - 14s 44ms/step - loss: 0.4001 - accuracy: 0.8288 - val_loss: 0.4638 - val_accuracy: 0.7846\n",
            "Epoch 58/100\n",
            "313/313 [==============================] - 14s 44ms/step - loss: 0.3975 - accuracy: 0.8285 - val_loss: 0.4582 - val_accuracy: 0.7880\n",
            "Epoch 59/100\n",
            "313/313 [==============================] - 14s 43ms/step - loss: 0.3949 - accuracy: 0.8318 - val_loss: 0.4587 - val_accuracy: 0.7884\n",
            "Epoch 60/100\n",
            "313/313 [==============================] - 14s 44ms/step - loss: 0.3930 - accuracy: 0.8312 - val_loss: 0.4575 - val_accuracy: 0.7906\n",
            "Epoch 61/100\n",
            "313/313 [==============================] - 14s 44ms/step - loss: 0.3905 - accuracy: 0.8323 - val_loss: 0.4596 - val_accuracy: 0.7896\n",
            "Epoch 62/100\n",
            "313/313 [==============================] - 14s 44ms/step - loss: 0.3888 - accuracy: 0.8349 - val_loss: 0.4711 - val_accuracy: 0.7812\n",
            "Epoch 63/100\n",
            "313/313 [==============================] - 14s 45ms/step - loss: 0.3869 - accuracy: 0.8349 - val_loss: 0.4603 - val_accuracy: 0.7878\n"
          ]
        }
      ]
    },
    {
      "cell_type": "code",
      "metadata": {
        "colab": {
          "base_uri": "https://localhost:8080/",
          "height": 279
        },
        "id": "FGWXs3CuFsA1",
        "outputId": "97b29faf-c68d-4aef-a0c5-40b4f19aae5d"
      },
      "source": [
        "plt.plot(history.history['loss'])\n",
        "plt.plot(history.history['val_loss'])\n",
        "plt.xlabel('epoch')\n",
        "plt.ylabel('loss')\n",
        "plt.legend(['train', 'val'])\n",
        "plt.show()"
      ],
      "execution_count": 18,
      "outputs": [
        {
          "output_type": "display_data",
          "data": {
            "image/png": "[encoded data removed]",
            "text/plain": [
              "<Figure size 432x288 with 1 Axes>"
            ]
          },
          "metadata": {
            "needs_background": "light"
          }
        }
      ]
    },
    {
      "cell_type": "code",
      "metadata": {
        "colab": {
          "base_uri": "https://localhost:8080/"
        },
        "id": "TFd1GidlRMDB",
        "outputId": "ae52b418-ed1f-45d1-b7a3-36868c3fa63d"
      },
      "source": [
        "print(train_seq.nbytes, train_oh.nbytes)"
      ],
      "execution_count": 19,
      "outputs": [
        {
          "output_type": "stream",
          "name": "stdout",
          "text": [
            "8000000 4000000000\n"
          ]
        }
      ]
    },
    {
      "cell_type": "code",
      "metadata": {
        "id": "B_LveLEERt1N"
      },
      "source": [
        "# word embedding\n",
        "model2 = keras.Sequential()\n",
        "model2.add(keras.layers.Embedding(500, 16, input_length=100))\n",
        "model2.add(keras.layers.SimpleRNN(8))\n",
        "model2.add(keras.layers.Dense(1, activation='sigmoid'))"
      ],
      "execution_count": 24,
      "outputs": []
    },
    {
      "cell_type": "code",
      "metadata": {
        "colab": {
          "base_uri": "https://localhost:8080/"
        },
        "id": "ac8XZVLsSog5",
        "outputId": "6df243d4-2e97-430a-beb0-e27c3b606aab"
      },
      "source": [
        "rmsprop = keras.optimizers.RMSprop(learning_rate=1e-4)\n",
        "model2.compile(optimizer=rmsprop, loss='binary_crossentropy', metrics=['accuracy'])\n",
        "checkpoint_cb = keras.callbacks.ModelCheckpoint('best-simplernn-model.h5')\n",
        "early_stopping_cb = keras.callbacks.EarlyStopping(patience=3, restore_best_weights=True)\n",
        "history = model2.fit(train_seq, train_target, epochs=100, batch_size=64, validation_data=(val_seq, val_target), callbacks=[checkpoint_cb, early_stopping_cb])"
      ],
      "execution_count": 26,
      "outputs": [
        {
          "output_type": "stream",
          "name": "stdout",
          "text": [
            "Epoch 1/100\n",
            "313/313 [==============================] - 8s 23ms/step - loss: 0.6979 - accuracy: 0.4991 - val_loss: 0.6955 - val_accuracy: 0.5058\n",
            "Epoch 2/100\n",
            "313/313 [==============================] - 7s 22ms/step - loss: 0.6928 - accuracy: 0.5177 - val_loss: 0.6933 - val_accuracy: 0.5166\n",
            "Epoch 3/100\n",
            "313/313 [==============================] - 7s 22ms/step - loss: 0.6888 - accuracy: 0.5357 - val_loss: 0.6916 - val_accuracy: 0.5250\n",
            "Epoch 4/100\n",
            "313/313 [==============================] - 7s 22ms/step - loss: 0.6851 - accuracy: 0.5507 - val_loss: 0.6903 - val_accuracy: 0.5350\n",
            "Epoch 5/100\n",
            "313/313 [==============================] - 7s 23ms/step - loss: 0.6813 - accuracy: 0.5638 - val_loss: 0.6893 - val_accuracy: 0.5318\n",
            "Epoch 6/100\n",
            "313/313 [==============================] - 7s 22ms/step - loss: 0.6773 - accuracy: 0.5748 - val_loss: 0.6885 - val_accuracy: 0.5364\n",
            "Epoch 7/100\n",
            "313/313 [==============================] - 7s 23ms/step - loss: 0.6730 - accuracy: 0.5863 - val_loss: 0.6879 - val_accuracy: 0.5398\n",
            "Epoch 8/100\n",
            "313/313 [==============================] - 7s 22ms/step - loss: 0.6688 - accuracy: 0.5975 - val_loss: 0.6871 - val_accuracy: 0.5428\n",
            "Epoch 9/100\n",
            "313/313 [==============================] - 7s 22ms/step - loss: 0.6644 - accuracy: 0.6058 - val_loss: 0.6860 - val_accuracy: 0.5428\n",
            "Epoch 10/100\n",
            "313/313 [==============================] - 7s 23ms/step - loss: 0.6600 - accuracy: 0.6172 - val_loss: 0.6855 - val_accuracy: 0.5464\n",
            "Epoch 11/100\n",
            "313/313 [==============================] - 7s 23ms/step - loss: 0.6556 - accuracy: 0.6212 - val_loss: 0.6843 - val_accuracy: 0.5464\n",
            "Epoch 12/100\n",
            "313/313 [==============================] - 7s 23ms/step - loss: 0.6510 - accuracy: 0.6312 - val_loss: 0.6836 - val_accuracy: 0.5528\n",
            "Epoch 13/100\n",
            "313/313 [==============================] - 7s 22ms/step - loss: 0.6464 - accuracy: 0.6355 - val_loss: 0.6823 - val_accuracy: 0.5578\n",
            "Epoch 14/100\n",
            "313/313 [==============================] - 7s 23ms/step - loss: 0.6416 - accuracy: 0.6432 - val_loss: 0.6810 - val_accuracy: 0.5616\n",
            "Epoch 15/100\n",
            "313/313 [==============================] - 7s 23ms/step - loss: 0.6367 - accuracy: 0.6486 - val_loss: 0.6795 - val_accuracy: 0.5654\n",
            "Epoch 16/100\n",
            "313/313 [==============================] - 7s 22ms/step - loss: 0.6317 - accuracy: 0.6563 - val_loss: 0.6776 - val_accuracy: 0.5636\n",
            "Epoch 17/100\n",
            "313/313 [==============================] - 7s 23ms/step - loss: 0.6263 - accuracy: 0.6652 - val_loss: 0.6757 - val_accuracy: 0.5702\n",
            "Epoch 18/100\n",
            "313/313 [==============================] - 7s 22ms/step - loss: 0.6208 - accuracy: 0.6717 - val_loss: 0.6736 - val_accuracy: 0.5768\n",
            "Epoch 19/100\n",
            "313/313 [==============================] - 7s 22ms/step - loss: 0.6153 - accuracy: 0.6786 - val_loss: 0.6711 - val_accuracy: 0.5824\n",
            "Epoch 20/100\n",
            "313/313 [==============================] - 7s 23ms/step - loss: 0.6095 - accuracy: 0.6869 - val_loss: 0.6688 - val_accuracy: 0.5840\n",
            "Epoch 21/100\n",
            "313/313 [==============================] - 7s 23ms/step - loss: 0.6036 - accuracy: 0.6938 - val_loss: 0.6653 - val_accuracy: 0.5874\n",
            "Epoch 22/100\n",
            "313/313 [==============================] - 7s 23ms/step - loss: 0.5972 - accuracy: 0.6998 - val_loss: 0.6622 - val_accuracy: 0.5940\n",
            "Epoch 23/100\n",
            "313/313 [==============================] - 7s 23ms/step - loss: 0.5907 - accuracy: 0.7043 - val_loss: 0.6595 - val_accuracy: 0.5984\n",
            "Epoch 24/100\n",
            "313/313 [==============================] - 7s 23ms/step - loss: 0.5841 - accuracy: 0.7099 - val_loss: 0.6547 - val_accuracy: 0.6060\n",
            "Epoch 25/100\n",
            "313/313 [==============================] - 7s 23ms/step - loss: 0.5768 - accuracy: 0.7157 - val_loss: 0.6500 - val_accuracy: 0.6130\n",
            "Epoch 26/100\n",
            "313/313 [==============================] - 7s 22ms/step - loss: 0.5694 - accuracy: 0.7229 - val_loss: 0.6448 - val_accuracy: 0.6200\n",
            "Epoch 27/100\n",
            "313/313 [==============================] - 7s 22ms/step - loss: 0.5611 - accuracy: 0.7312 - val_loss: 0.6391 - val_accuracy: 0.6296\n",
            "Epoch 28/100\n",
            "313/313 [==============================] - 7s 23ms/step - loss: 0.5522 - accuracy: 0.7379 - val_loss: 0.6319 - val_accuracy: 0.6370\n",
            "Epoch 29/100\n",
            "313/313 [==============================] - 7s 23ms/step - loss: 0.5422 - accuracy: 0.7456 - val_loss: 0.6229 - val_accuracy: 0.6494\n",
            "Epoch 30/100\n",
            "313/313 [==============================] - 7s 22ms/step - loss: 0.5313 - accuracy: 0.7533 - val_loss: 0.6124 - val_accuracy: 0.6604\n",
            "Epoch 31/100\n",
            "313/313 [==============================] - 7s 22ms/step - loss: 0.5183 - accuracy: 0.7613 - val_loss: 0.5993 - val_accuracy: 0.6726\n",
            "Epoch 32/100\n",
            "313/313 [==============================] - 8s 25ms/step - loss: 0.5040 - accuracy: 0.7688 - val_loss: 0.5839 - val_accuracy: 0.6904\n",
            "Epoch 33/100\n",
            "313/313 [==============================] - 7s 23ms/step - loss: 0.4887 - accuracy: 0.7793 - val_loss: 0.5681 - val_accuracy: 0.7082\n",
            "Epoch 34/100\n",
            "313/313 [==============================] - 7s 23ms/step - loss: 0.4733 - accuracy: 0.7890 - val_loss: 0.5582 - val_accuracy: 0.7180\n",
            "Epoch 35/100\n",
            "313/313 [==============================] - 7s 23ms/step - loss: 0.4607 - accuracy: 0.7951 - val_loss: 0.5476 - val_accuracy: 0.7274\n",
            "Epoch 36/100\n",
            "313/313 [==============================] - 7s 22ms/step - loss: 0.4502 - accuracy: 0.7998 - val_loss: 0.5463 - val_accuracy: 0.7300\n",
            "Epoch 37/100\n",
            "313/313 [==============================] - 7s 23ms/step - loss: 0.4415 - accuracy: 0.8055 - val_loss: 0.5433 - val_accuracy: 0.7328\n",
            "Epoch 38/100\n",
            "313/313 [==============================] - 7s 22ms/step - loss: 0.4336 - accuracy: 0.8104 - val_loss: 0.5353 - val_accuracy: 0.7422\n",
            "Epoch 39/100\n",
            "313/313 [==============================] - 7s 22ms/step - loss: 0.4270 - accuracy: 0.8149 - val_loss: 0.5333 - val_accuracy: 0.7414\n",
            "Epoch 40/100\n",
            "313/313 [==============================] - 7s 22ms/step - loss: 0.4206 - accuracy: 0.8212 - val_loss: 0.5313 - val_accuracy: 0.7428\n",
            "Epoch 41/100\n",
            "313/313 [==============================] - 7s 23ms/step - loss: 0.4154 - accuracy: 0.8231 - val_loss: 0.5302 - val_accuracy: 0.7436\n",
            "Epoch 42/100\n",
            "313/313 [==============================] - 7s 22ms/step - loss: 0.4105 - accuracy: 0.8246 - val_loss: 0.5288 - val_accuracy: 0.7456\n",
            "Epoch 43/100\n",
            "313/313 [==============================] - 7s 22ms/step - loss: 0.4055 - accuracy: 0.8264 - val_loss: 0.5293 - val_accuracy: 0.7448\n",
            "Epoch 44/100\n",
            "313/313 [==============================] - 7s 23ms/step - loss: 0.4016 - accuracy: 0.8311 - val_loss: 0.5270 - val_accuracy: 0.7470\n",
            "Epoch 45/100\n",
            "313/313 [==============================] - 7s 22ms/step - loss: 0.3971 - accuracy: 0.8342 - val_loss: 0.5293 - val_accuracy: 0.7456\n",
            "Epoch 46/100\n",
            "313/313 [==============================] - 7s 22ms/step - loss: 0.3934 - accuracy: 0.8346 - val_loss: 0.5300 - val_accuracy: 0.7478\n",
            "Epoch 47/100\n",
            "313/313 [==============================] - 7s 23ms/step - loss: 0.3907 - accuracy: 0.8370 - val_loss: 0.5263 - val_accuracy: 0.7506\n",
            "Epoch 48/100\n",
            "313/313 [==============================] - 7s 23ms/step - loss: 0.3872 - accuracy: 0.8381 - val_loss: 0.5277 - val_accuracy: 0.7492\n",
            "Epoch 49/100\n",
            "313/313 [==============================] - 7s 23ms/step - loss: 0.3842 - accuracy: 0.8407 - val_loss: 0.5279 - val_accuracy: 0.7474\n",
            "Epoch 50/100\n",
            "313/313 [==============================] - 7s 23ms/step - loss: 0.3812 - accuracy: 0.8414 - val_loss: 0.5322 - val_accuracy: 0.7458\n"
          ]
        }
      ]
    },
    {
      "cell_type": "code",
      "metadata": {
        "colab": {
          "base_uri": "https://localhost:8080/",
          "height": 279
        },
        "id": "UAzzncrkTNXG",
        "outputId": "4c5fe3d9-a788-476e-d0a7-8075dbd91e24"
      },
      "source": [
        "plt.plot(history.history['loss'])\n",
        "plt.plot(history.history['val_loss'])\n",
        "plt.xlabel('epoch')\n",
        "plt.ylabel('loss')\n",
        "plt.legend(['train', 'val'])\n",
        "plt.show()"
      ],
      "execution_count": 27,
      "outputs": [
        {
          "output_type": "display_data",
          "data": {
            "image/png": "[encoded data removed]",
            "text/plain": [
              "<Figure size 432x288 with 1 Axes>"
            ]
          },
          "metadata": {
            "needs_background": "light"
          }
        }
      ]
    },
    {
      "cell_type": "code",
      "metadata": {
        "id": "tMv8T2gfZyWi"
      },
      "source": [
        ""
      ],
      "execution_count": null,
      "outputs": []
    }
  ]
}