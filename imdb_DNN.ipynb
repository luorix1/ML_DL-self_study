{
  "nbformat": 4,
  "nbformat_minor": 0,
  "metadata": {
    "colab": {
      "name": "imdb_DNN",
      "provenance": [],
      "authorship_tag": "ABX9TyPdek/y177P25cz77caltfy",
      "include_colab_link": true
    },
    "kernelspec": {
      "name": "python3",
      "display_name": "Python 3"
    },
    "language_info": {
      "name": "python"
    }
  },
  "cells": [
    {
      "cell_type": "markdown",
      "metadata": {
        "id": "view-in-github",
        "colab_type": "text"
      },
      "source": [
        "<a href=\"https://colab.research.google.com/github/luorix1/ML_DL-self_study/blob/main/imdb_DNN.ipynb\" target=\"_parent\"><img src=\"https://colab.research.google.com/assets/colab-badge.svg\" alt=\"Open In Colab\"/></a>"
      ]
    },
    {
      "cell_type": "code",
      "metadata": {
        "id": "M5ckhogonVSo"
      },
      "source": [
        "from tensorflow import keras\n",
        "from tensorflow.keras.datasets import imdb\n",
        "from tensorflow.keras.preprocessing.sequence import pad_sequences\n",
        "from tensorflow.keras.models import Sequential\n",
        "from tensorflow.keras.layers import Dense, Flatten, Dropout\n",
        "from tensorflow.keras.layers import Embedding\n",
        "from tensorflow.keras.callbacks import ModelCheckpoint\n",
        "import os\n",
        "from sklearn.metrics import roc_auc_score, roc_curve\n",
        "import pandas as pd\n",
        "import matplotlib.pyplot as plt"
      ],
      "execution_count": 2,
      "outputs": []
    },
    {
      "cell_type": "code",
      "metadata": {
        "id": "yPGCdu9dotz2"
      },
      "source": [
        "# output directory\n",
        "output_dir = 'model_output/dense'\n",
        "\n",
        "# train\n",
        "epochs = 4\n",
        "batch_size = 128\n",
        "\n",
        "# vector space embedding\n",
        "n_dim = 64\n",
        "n_unique_words = 5000\n",
        "n_words_to_skip = 50\n",
        "max_review_length = 100\n",
        "pad_type = trunc_type = 'pre'\n",
        "\n",
        "# model structure\n",
        "n_dense = 64\n",
        "dropout = 0.5"
      ],
      "execution_count": 13,
      "outputs": []
    },
    {
      "cell_type": "code",
      "metadata": {
        "id": "UycLUmUOpDGk"
      },
      "source": [
        "(x_train, y_train), (x_valid, y_valid) = imdb.load_data(num_words=n_unique_words, skip_top=n_words_to_skip)"
      ],
      "execution_count": 14,
      "outputs": []
    },
    {
      "cell_type": "code",
      "metadata": {
        "id": "m-LksMMipK__"
      },
      "source": [
        "word_index = keras.datasets.imdb.get_word_index()\n",
        "word_index = {k:(v+3) for k, v in word_index.items()}\n",
        "word_index['PAD'] = 0\n",
        "word_index['START'] = 1\n",
        "word_index['UNK'] = 2\n",
        "index_word = {v:k for k,v in word_index.items()}"
      ],
      "execution_count": 15,
      "outputs": []
    },
    {
      "cell_type": "code",
      "metadata": {
        "id": "hnw3HLEOp8Wo"
      },
      "source": [
        "(all_x_train, _), (all_x_valid, _) = imdb.load_data()"
      ],
      "execution_count": 16,
      "outputs": []
    },
    {
      "cell_type": "code",
      "metadata": {
        "colab": {
          "base_uri": "https://localhost:8080/",
          "height": 125
        },
        "id": "u13kilI6qMdW",
        "outputId": "5f1655b1-0bd5-4ffd-8d67-e884ffcf9e29"
      },
      "source": [
        "# show example sentence\n",
        "' '.join(index_word[i] for i in all_x_train[0])"
      ],
      "execution_count": 17,
      "outputs": [
        {
          "output_type": "execute_result",
          "data": {
            "application/vnd.google.colaboratory.intrinsic+json": {
              "type": "string"
            },
            "text/plain": [
              "\"START this film was just brilliant casting location scenery story direction everyone's really suited the part they played and you could just imagine being there robert redford's is an amazing actor and now the same being director norman's father came from the same scottish island as myself so i loved the fact there was a real connection with this film the witty remarks throughout the film were great it was just brilliant so much that i bought the film as soon as it was released for retail and would recommend it to everyone to watch and the fly fishing was amazing really cried at the end it was so sad and you know what they say if you cry at a film it must have been good and this definitely was also congratulations to the two little boy's that played the part's of norman and paul they were just brilliant children are often left out of the praising list i think because the stars that play them all grown up are such a big profile for the whole film but these children are amazing and should be praised for what they have done don't you think the whole story was so lovely because it was true and was someone's life after all that was shared with us all\""
            ]
          },
          "metadata": {},
          "execution_count": 17
        }
      ]
    },
    {
      "cell_type": "code",
      "metadata": {
        "id": "ih9-cXq6qQZI"
      },
      "source": [
        "# pad and cut text\n",
        "x_train = pad_sequences(x_train, maxlen=max_review_length, padding=pad_type, truncating=trunc_type)\n",
        "x_valid = pad_sequences(x_valid, maxlen=max_review_length, padding=pad_type, truncating=trunc_type)"
      ],
      "execution_count": 19,
      "outputs": []
    },
    {
      "cell_type": "code",
      "metadata": {
        "id": "dAuREWWSrpVu"
      },
      "source": [
        "# model\n",
        "model = Sequential()\n",
        "model.add(Embedding(n_unique_words, n_dim, input_length=max_review_length))\n",
        "model.add(Flatten())\n",
        "model.add(Dense(n_dense, activation='relu'))\n",
        "model.add(Dropout(dropout))\n",
        "model.add(Dense(1, activation='sigmoid'))"
      ],
      "execution_count": 20,
      "outputs": []
    },
    {
      "cell_type": "code",
      "metadata": {
        "id": "1pU6a6vqsP3R"
      },
      "source": [
        "model.compile(loss='binary_crossentropy', optimizer='adam', metrics=['accuracy'])"
      ],
      "execution_count": 21,
      "outputs": []
    },
    {
      "cell_type": "code",
      "metadata": {
        "id": "hZ11lHQysXDo"
      },
      "source": [
        "# set checkpoint\n",
        "modelcheckpoint = ModelCheckpoint(filepath=output_dir + '/weights.{epoch:02d}.hdf5')\n",
        "\n",
        "if not os.path.exists(output_dir):\n",
        "  os.makedirs(output_dir)"
      ],
      "execution_count": 22,
      "outputs": []
    },
    {
      "cell_type": "code",
      "metadata": {
        "colab": {
          "base_uri": "https://localhost:8080/"
        },
        "id": "5hVRRYpLsjx7",
        "outputId": "c4fbdb23-7149-494e-bb32-7c63fb8621f5"
      },
      "source": [
        "# train model\n",
        "model.fit(x_train, y_train, batch_size=batch_size, epochs=epochs, validation_data=(x_valid, y_valid), callbacks=[modelcheckpoint])"
      ],
      "execution_count": 23,
      "outputs": [
        {
          "output_type": "stream",
          "name": "stdout",
          "text": [
            "Epoch 1/4\n",
            "196/196 [==============================] - 6s 23ms/step - loss: 0.5587 - accuracy: 0.6878 - val_loss: 0.3569 - val_accuracy: 0.8404\n",
            "Epoch 2/4\n",
            "196/196 [==============================] - 4s 22ms/step - loss: 0.2834 - accuracy: 0.8868 - val_loss: 0.3447 - val_accuracy: 0.8465\n",
            "Epoch 3/4\n",
            "196/196 [==============================] - 4s 22ms/step - loss: 0.1177 - accuracy: 0.9640 - val_loss: 0.4292 - val_accuracy: 0.8310\n",
            "Epoch 4/4\n",
            "196/196 [==============================] - 4s 22ms/step - loss: 0.0244 - accuracy: 0.9959 - val_loss: 0.5444 - val_accuracy: 0.8296\n"
          ]
        },
        {
          "output_type": "execute_result",
          "data": {
            "text/plain": [
              "<keras.callbacks.History at 0x7f5ea25a6ed0>"
            ]
          },
          "metadata": {},
          "execution_count": 23
        }
      ]
    },
    {
      "cell_type": "code",
      "metadata": {
        "id": "GkXYOmoesw-s"
      },
      "source": [
        "# overfitting occurs after 2nd epoch"
      ],
      "execution_count": 24,
      "outputs": []
    },
    {
      "cell_type": "code",
      "metadata": {
        "id": "K5kSVI1ms8Pq"
      },
      "source": [
        "model.load_weights(output_dir + '/weights.02.hdf5')"
      ],
      "execution_count": 25,
      "outputs": []
    },
    {
      "cell_type": "code",
      "metadata": {
        "colab": {
          "base_uri": "https://localhost:8080/"
        },
        "id": "Nba74El3tA14",
        "outputId": "b28f056a-d0e5-4858-9053-42abc26d5c3d"
      },
      "source": [
        "# calculate y hat\n",
        "y_hat = model.predict(x_valid)\n",
        "print(y_hat)"
      ],
      "execution_count": 27,
      "outputs": [
        {
          "output_type": "stream",
          "name": "stdout",
          "text": [
            "[[0.1382691 ]\n",
            " [0.96649873]\n",
            " [0.88143826]\n",
            " ...\n",
            " [0.03607908]\n",
            " [0.02968493]\n",
            " [0.77673453]]\n"
          ]
        }
      ]
    },
    {
      "cell_type": "code",
      "metadata": {
        "colab": {
          "base_uri": "https://localhost:8080/",
          "height": 265
        },
        "id": "SrP5CSlctE7F",
        "outputId": "0e9093a0-2099-448e-bec8-df1943f24e7c"
      },
      "source": [
        "plt.hist(y_hat)\n",
        "_ = plt.axvline(x=0.5, color='orange')"
      ],
      "execution_count": 28,
      "outputs": [
        {
          "output_type": "display_data",
          "data": {
            "image/png": "[encoded data removed]",
            "text/plain": [
              "<Figure size 432x288 with 1 Axes>"
            ]
          },
          "metadata": {
            "needs_background": "light"
          }
        }
      ]
    }
  ]
}